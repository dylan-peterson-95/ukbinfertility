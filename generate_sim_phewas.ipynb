{
 "cells": [
  {
   "cell_type": "code",
   "execution_count": 1,
   "metadata": {
    "collapsed": true
   },
   "outputs": [],
   "source": [
    "# necessary imports\n",
    "import pandas as pd\n",
    "import numpy as np\n",
    "\n",
    "np.random.seed(212)"
   ]
  },
  {
   "cell_type": "code",
   "execution_count": 2,
   "metadata": {
    "collapsed": true
   },
   "outputs": [],
   "source": [
    "# read in our cohort's data\n",
    "df = pd.read_csv('clinical_data/subset_cohort.csv',low_memory=False)"
   ]
  },
  {
   "cell_type": "code",
   "execution_count": 6,
   "metadata": {},
   "outputs": [],
   "source": [
    "df[\"f.eid\"].to_csv(\"clinical_data/cohort_ids.csv\",index=False)"
   ]
  },
  {
   "cell_type": "code",
   "execution_count": 3,
   "metadata": {
    "collapsed": true
   },
   "outputs": [],
   "source": [
    "# subset to the unique ids, the infertility data, and age at first heart attack data\n",
    "azf_df = df[[\"f.eid\",\"f.132084.0.0\",\"f.3894.0.0\"]].copy()\n",
    "\n",
    "# generate labels for being infertile\n",
    "azf_df[\"infertile\"] = azf_df[\"f.132084.0.0\"].notnull()\n",
    "\n",
    "# generate 1% chance of having an AZF microdeletion in the cohort\n",
    "azf_df[\"azf_null\"] = np.random.binomial(1,0.01,len(azf_df))\n",
    "\n",
    "# increase that chance to 7.5% in infertile men\n",
    "azf_df.loc[azf_df[\"infertile\"],\"azf_null\"] = np.random.binomial(1,0.075,len(azf_df.loc[azf_df[\"infertile\"]]))\n",
    "\n",
    "# do the same for MI data. but this time make AZF related to MI in the fertile men \n",
    "# (e.g. increased AZF among fertile men with MIs)\n",
    "azf_df[\"azf_MI\"] = azf_df[\"azf_null\"]\n",
    "azf_df.loc[((azf_df[\"f.3894.0.0\"].notnull())\n",
    "        &(~azf_df[\"infertile\"])),\"azf_MI\"] = np.random.binomial(1,0.015,\n",
    "                                                                len(azf_df.loc[((azf_df[\"f.3894.0.0\"].notnull())\n",
    "                                                                                &(~azf_df[\"infertile\"]))]))"
   ]
  },
  {
   "cell_type": "code",
   "execution_count": 4,
   "metadata": {},
   "outputs": [
    {
     "data": {
      "text/plain": [
       "infertile\n",
       "False    0.010203\n",
       "True     0.061404\n",
       "Name: azf_null, dtype: float64"
      ]
     },
     "execution_count": 4,
     "metadata": {},
     "output_type": "execute_result"
    }
   ],
   "source": [
    "# show a ~1% prevalence of AZF in the general cohort with a ~7.5% chance in the infertile men\n",
    "azf_df.groupby(\"infertile\").azf_null.mean()"
   ]
  },
  {
   "cell_type": "code",
   "execution_count": 5,
   "metadata": {},
   "outputs": [
    {
     "data": {
      "text/plain": [
       "f.3894.0.0\n",
       "False    0.010372\n",
       "True     0.016459\n",
       "Name: azf_MI, dtype: float64"
      ]
     },
     "execution_count": 5,
     "metadata": {},
     "output_type": "execute_result"
    }
   ],
   "source": [
    "# show a ~1% prevalence of AZF in the general cohort with a ~1.5% chance men with heart attacks\n",
    "azf_df.groupby(df[\"f.3894.0.0\"].notnull()).azf_MI.mean()"
   ]
  },
  {
   "cell_type": "code",
   "execution_count": 6,
   "metadata": {
    "collapsed": true
   },
   "outputs": [],
   "source": [
    "# save the data with the appropriate formatting\n",
    "azf_null = azf_df[[\"f.eid\",\"azf_null\"]]\n",
    "azf_null.columns = [\"userId\",\"exposure\"]\n",
    "azf_null.to_csv(\"clinical_data/simulated_azf_null.csv\",index=False)\n",
    "\n",
    "azf_MI = azf_df[[\"f.eid\",\"azf_MI\"]]\n",
    "azf_MI.columns = [\"userId\",\"exposure\"]\n",
    "azf_MI.to_csv(\"clinical_data/simulated_azf_MI.csv\",index=False)"
   ]
  },
  {
   "cell_type": "code",
   "execution_count": 12,
   "metadata": {},
   "outputs": [
    {
     "data": {
      "text/html": [
       "<div>\n",
       "<table border=\"1\" class=\"dataframe\">\n",
       "  <thead>\n",
       "    <tr style=\"text-align: right;\">\n",
       "      <th></th>\n",
       "      <th>userId</th>\n",
       "      <th>x31_0_0</th>\n",
       "      <th>x34_0_0</th>\n",
       "      <th>x52_0_0</th>\n",
       "      <th>x84_0_0</th>\n",
       "      <th>x84_0_1</th>\n",
       "      <th>x84_0_2</th>\n",
       "      <th>x84_0_3</th>\n",
       "      <th>x84_0_4</th>\n",
       "      <th>x84_0_5</th>\n",
       "      <th>...</th>\n",
       "      <th>x42012_0_0</th>\n",
       "      <th>x130706_0_0</th>\n",
       "      <th>x130708_0_0</th>\n",
       "      <th>x130710_0_0</th>\n",
       "      <th>x130712_0_0</th>\n",
       "      <th>x130714_0_0</th>\n",
       "      <th>x131286_0_0</th>\n",
       "      <th>x131294_0_0</th>\n",
       "      <th>x132084_0_0</th>\n",
       "      <th>x132085_0_0</th>\n",
       "    </tr>\n",
       "  </thead>\n",
       "  <tbody>\n",
       "    <tr>\n",
       "      <th>0</th>\n",
       "      <td>1000047</td>\n",
       "      <td>Male</td>\n",
       "      <td>1943</td>\n",
       "      <td>July</td>\n",
       "      <td>NaN</td>\n",
       "      <td>NaN</td>\n",
       "      <td>NaN</td>\n",
       "      <td>NaN</td>\n",
       "      <td>NaN</td>\n",
       "      <td>NaN</td>\n",
       "      <td>...</td>\n",
       "      <td>NaN</td>\n",
       "      <td>NaN</td>\n",
       "      <td>NaN</td>\n",
       "      <td>NaN</td>\n",
       "      <td>NaN</td>\n",
       "      <td>NaN</td>\n",
       "      <td>2010-06-28</td>\n",
       "      <td>NaN</td>\n",
       "      <td>NaN</td>\n",
       "      <td>NaN</td>\n",
       "    </tr>\n",
       "    <tr>\n",
       "      <th>1</th>\n",
       "      <td>1000050</td>\n",
       "      <td>Male</td>\n",
       "      <td>1958</td>\n",
       "      <td>October</td>\n",
       "      <td>NaN</td>\n",
       "      <td>NaN</td>\n",
       "      <td>NaN</td>\n",
       "      <td>NaN</td>\n",
       "      <td>NaN</td>\n",
       "      <td>NaN</td>\n",
       "      <td>...</td>\n",
       "      <td>NaN</td>\n",
       "      <td>NaN</td>\n",
       "      <td>NaN</td>\n",
       "      <td>NaN</td>\n",
       "      <td>NaN</td>\n",
       "      <td>NaN</td>\n",
       "      <td>NaN</td>\n",
       "      <td>NaN</td>\n",
       "      <td>NaN</td>\n",
       "      <td>NaN</td>\n",
       "    </tr>\n",
       "    <tr>\n",
       "      <th>2</th>\n",
       "      <td>1000068</td>\n",
       "      <td>Male</td>\n",
       "      <td>1942</td>\n",
       "      <td>October</td>\n",
       "      <td>NaN</td>\n",
       "      <td>NaN</td>\n",
       "      <td>NaN</td>\n",
       "      <td>NaN</td>\n",
       "      <td>NaN</td>\n",
       "      <td>NaN</td>\n",
       "      <td>...</td>\n",
       "      <td>NaN</td>\n",
       "      <td>NaN</td>\n",
       "      <td>2017-05-30</td>\n",
       "      <td>NaN</td>\n",
       "      <td>NaN</td>\n",
       "      <td>2004-04-01</td>\n",
       "      <td>2017-05-30</td>\n",
       "      <td>NaN</td>\n",
       "      <td>NaN</td>\n",
       "      <td>NaN</td>\n",
       "    </tr>\n",
       "    <tr>\n",
       "      <th>3</th>\n",
       "      <td>1000094</td>\n",
       "      <td>Male</td>\n",
       "      <td>1952</td>\n",
       "      <td>September</td>\n",
       "      <td>NaN</td>\n",
       "      <td>NaN</td>\n",
       "      <td>NaN</td>\n",
       "      <td>NaN</td>\n",
       "      <td>NaN</td>\n",
       "      <td>NaN</td>\n",
       "      <td>...</td>\n",
       "      <td>NaN</td>\n",
       "      <td>NaN</td>\n",
       "      <td>NaN</td>\n",
       "      <td>NaN</td>\n",
       "      <td>NaN</td>\n",
       "      <td>NaN</td>\n",
       "      <td>NaN</td>\n",
       "      <td>NaN</td>\n",
       "      <td>NaN</td>\n",
       "      <td>NaN</td>\n",
       "    </tr>\n",
       "    <tr>\n",
       "      <th>4</th>\n",
       "      <td>1000145</td>\n",
       "      <td>Male</td>\n",
       "      <td>1945</td>\n",
       "      <td>September</td>\n",
       "      <td>NaN</td>\n",
       "      <td>NaN</td>\n",
       "      <td>NaN</td>\n",
       "      <td>NaN</td>\n",
       "      <td>NaN</td>\n",
       "      <td>NaN</td>\n",
       "      <td>...</td>\n",
       "      <td>NaN</td>\n",
       "      <td>NaN</td>\n",
       "      <td>NaN</td>\n",
       "      <td>NaN</td>\n",
       "      <td>NaN</td>\n",
       "      <td>NaN</td>\n",
       "      <td>NaN</td>\n",
       "      <td>NaN</td>\n",
       "      <td>NaN</td>\n",
       "      <td>NaN</td>\n",
       "    </tr>\n",
       "  </tbody>\n",
       "</table>\n",
       "<p>5 rows × 320 columns</p>\n",
       "</div>"
      ],
      "text/plain": [
       "    userId x31_0_0  x34_0_0    x52_0_0  x84_0_0  x84_0_1  x84_0_2  x84_0_3  \\\n",
       "0  1000047    Male     1943       July      NaN      NaN      NaN      NaN   \n",
       "1  1000050    Male     1958    October      NaN      NaN      NaN      NaN   \n",
       "2  1000068    Male     1942    October      NaN      NaN      NaN      NaN   \n",
       "3  1000094    Male     1952  September      NaN      NaN      NaN      NaN   \n",
       "4  1000145    Male     1945  September      NaN      NaN      NaN      NaN   \n",
       "\n",
       "   x84_0_4  x84_0_5     ...       x42012_0_0  x130706_0_0  x130708_0_0  \\\n",
       "0      NaN      NaN     ...              NaN          NaN          NaN   \n",
       "1      NaN      NaN     ...              NaN          NaN          NaN   \n",
       "2      NaN      NaN     ...              NaN          NaN   2017-05-30   \n",
       "3      NaN      NaN     ...              NaN          NaN          NaN   \n",
       "4      NaN      NaN     ...              NaN          NaN          NaN   \n",
       "\n",
       "   x130710_0_0  x130712_0_0  x130714_0_0  x131286_0_0  x131294_0_0  \\\n",
       "0          NaN          NaN          NaN   2010-06-28          NaN   \n",
       "1          NaN          NaN          NaN          NaN          NaN   \n",
       "2          NaN          NaN   2004-04-01   2017-05-30          NaN   \n",
       "3          NaN          NaN          NaN          NaN          NaN   \n",
       "4          NaN          NaN          NaN          NaN          NaN   \n",
       "\n",
       "   x132084_0_0  x132085_0_0  \n",
       "0          NaN          NaN  \n",
       "1          NaN          NaN  \n",
       "2          NaN          NaN  \n",
       "3          NaN          NaN  \n",
       "4          NaN          NaN  \n",
       "\n",
       "[5 rows x 320 columns]"
      ]
     },
     "execution_count": 12,
     "metadata": {},
     "output_type": "execute_result"
    }
   ],
   "source": [
    "# create columns with the requisite formatting (from f.###.#.# to x###_#_#)\n",
    "cols = df.columns\n",
    "# change f. to x\n",
    "cols = [\"x\"+x.split(\"f.\")[1] for x in cols]\n",
    "# change the . to _\n",
    "cols = [(\"_\").join(x.split(\".\")) for x in cols]\n",
    "# change \"f.eid\" (now \"xeid\") to \"userId\"\n",
    "cols = [x if x!=\"xeid\" else \"userId\" for x in cols]\n",
    "# set the columns \n",
    "df.columns = cols\n",
    "df.head()"
   ]
  },
  {
   "cell_type": "code",
   "execution_count": 13,
   "metadata": {
    "collapsed": true
   },
   "outputs": [],
   "source": [
    "# drop our infertility exposure and save\n",
    "df.drop(\"x132084_0_0\",axis=1).to_csv(\"clinical_data/simulated_phenotypes.csv\",index=False)"
   ]
  },
  {
   "cell_type": "code",
   "execution_count": 4,
   "metadata": {
    "collapsed": true
   },
   "outputs": [],
   "source": [
    "# necessary imports\n",
    "import pandas as pd\n",
    "import numpy as np\n",
    "\n",
    "np.random.seed(212)\n",
    "\n",
    "# read in our cohort's data\n",
    "df = pd.read_csv('clinical_data/subset_cohort.csv',low_memory=False)\n",
    "\n",
    "# subset to the unique ids, the infertility data, and age at first heart attack data\n",
    "azf_df = df[[\"f.eid\",\"f.132084.0.0\",\"f.3894.0.0\"]].copy()\n",
    "\n",
    "# generate labels for being infertile\n",
    "azf_df[\"infertile\"] = azf_df[\"f.132084.0.0\"].notnull()\n",
    "\n",
    "# generate 1% chance of having an AZF microdeletion in the cohort\n",
    "azf_df[\"azf_null\"] = np.random.binomial(1,0.01,len(azf_df))\n",
    "\n",
    "# increase that chance to 7.5% in infertile men\n",
    "azf_df.loc[azf_df[\"infertile\"],\"azf_null\"] = np.random.binomial(1,0.075,len(azf_df.loc[azf_df[\"infertile\"]]))\n",
    "\n",
    "# do the same for MI data. but this time make AZF related to MI in the fertile men \n",
    "# (e.g. increased AZF among fertile men with MIs)\n",
    "azf_df[\"azf_MI\"] = azf_df[\"azf_null\"]\n",
    "azf_df.loc[((azf_df[\"f.3894.0.0\"].notnull())\n",
    "        &(~azf_df[\"infertile\"])),\"azf_MI\"] = np.random.binomial(1,0.015,\n",
    "                                                                len(azf_df.loc[((azf_df[\"f.3894.0.0\"].notnull())\n",
    "                                                                                &(~azf_df[\"infertile\"]))]))\n",
    "\n",
    "# show a ~1% prevalence of AZF in the general cohort with a ~7.5% chance in the infertile men\n",
    "azf_df.groupby(\"infertile\").azf_null.mean()\n",
    "\n",
    "# show a ~1% prevalence of AZF in the general cohort with a ~1.5% chance men with heart attacks\n",
    "azf_df.groupby(df[\"f.3894.0.0\"].notnull()).azf_MI.mean()\n",
    "\n",
    "# save the data with the appropriate formatting\n",
    "azf_null = azf_df[[\"f.eid\",\"azf_null\"]]\n",
    "azf_null.columns = [\"userId\",\"exposure\"]\n",
    "azf_null.to_csv(\"clinical_data/simulated_azf_null.csv\",index=False)\n",
    "\n",
    "azf_MI = azf_df[[\"f.eid\",\"azf_MI\"]]\n",
    "azf_MI.columns = [\"userId\",\"exposure\"]\n",
    "azf_MI.to_csv(\"clinical_data/simulated_azf_MI.csv\",index=False)\n",
    "\n",
    "# create columns with the requisite formatting (from f.###.#.# to x###_#_#)\n",
    "cols = df.columns\n",
    "# change f. to x\n",
    "cols = [\"x\"+x.split(\"f.\")[1] for x in cols]\n",
    "# change the . to _\n",
    "cols = [(\"_\").join(x.split(\".\")) for x in cols]\n",
    "# change \"f.eid\" (now \"xeid\") to \"userId\"\n",
    "cols = [x if x!=\"xeid\" else \"userId\" for x in cols]\n",
    "# set the columns \n",
    "df.columns = cols\n",
    "df.head()\n",
    "\n",
    "# drop our infertility exposure and save\n",
    "df.drop(\"x132084_0_0\",axis=1).to_csv(\"clinical_data/simulated_phenotypes.csv\",index=False)"
   ]
  },
  {
   "cell_type": "code",
   "execution_count": null,
   "metadata": {
    "collapsed": true
   },
   "outputs": [],
   "source": []
  }
 ],
 "metadata": {
  "kernelspec": {
   "display_name": "Python 3",
   "language": "python",
   "name": "python3"
  },
  "language_info": {
   "codemirror_mode": {
    "name": "ipython",
    "version": 3
   },
   "file_extension": ".py",
   "mimetype": "text/x-python",
   "name": "python",
   "nbconvert_exporter": "python",
   "pygments_lexer": "ipython3",
   "version": "3.6.1"
  }
 },
 "nbformat": 4,
 "nbformat_minor": 2
}
