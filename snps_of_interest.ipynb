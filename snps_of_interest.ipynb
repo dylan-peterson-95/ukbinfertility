{
 "cells": [
  {
   "cell_type": "code",
   "execution_count": 1,
   "metadata": {
    "collapsed": true
   },
   "outputs": [],
   "source": [
    "import pandas as pd\n",
    "import numpy as np"
   ]
  },
  {
   "cell_type": "code",
   "execution_count": 2,
   "metadata": {},
   "outputs": [
    {
     "name": "stdout",
     "output_type": "stream",
     "text": [
      "(691, 6)\n"
     ]
    },
    {
     "data": {
      "text/html": [
       "<div>\n",
       "<table border=\"1\" class=\"dataframe\">\n",
       "  <thead>\n",
       "    <tr style=\"text-align: right;\">\n",
       "      <th></th>\n",
       "      <th>#CHROM</th>\n",
       "      <th>ID</th>\n",
       "      <th>REF</th>\n",
       "      <th>ALT</th>\n",
       "      <th>ALT_FREQS</th>\n",
       "      <th>OBS_CT</th>\n",
       "    </tr>\n",
       "  </thead>\n",
       "  <tbody>\n",
       "    <tr>\n",
       "      <th>0</th>\n",
       "      <td>Y</td>\n",
       "      <td>rs1800865</td>\n",
       "      <td>A</td>\n",
       "      <td>G</td>\n",
       "      <td>1.000000</td>\n",
       "      <td>24933</td>\n",
       "    </tr>\n",
       "    <tr>\n",
       "      <th>1</th>\n",
       "      <td>Y</td>\n",
       "      <td>Affx-89009265</td>\n",
       "      <td>G</td>\n",
       "      <td>T</td>\n",
       "      <td>0.999996</td>\n",
       "      <td>223019</td>\n",
       "    </tr>\n",
       "    <tr>\n",
       "      <th>2</th>\n",
       "      <td>Y</td>\n",
       "      <td>Affx-89005343</td>\n",
       "      <td>G</td>\n",
       "      <td>A</td>\n",
       "      <td>0.999996</td>\n",
       "      <td>223219</td>\n",
       "    </tr>\n",
       "    <tr>\n",
       "      <th>3</th>\n",
       "      <td>Y</td>\n",
       "      <td>Affx-89024591</td>\n",
       "      <td>A</td>\n",
       "      <td>G</td>\n",
       "      <td>0.999973</td>\n",
       "      <td>223303</td>\n",
       "    </tr>\n",
       "    <tr>\n",
       "      <th>4</th>\n",
       "      <td>Y</td>\n",
       "      <td>Affx-89014410</td>\n",
       "      <td>A</td>\n",
       "      <td>G</td>\n",
       "      <td>0.999987</td>\n",
       "      <td>222556</td>\n",
       "    </tr>\n",
       "  </tbody>\n",
       "</table>\n",
       "</div>"
      ],
      "text/plain": [
       "  #CHROM             ID REF ALT  ALT_FREQS  OBS_CT\n",
       "0      Y      rs1800865   A   G   1.000000   24933\n",
       "1      Y  Affx-89009265   G   T   0.999996  223019\n",
       "2      Y  Affx-89005343   G   A   0.999996  223219\n",
       "3      Y  Affx-89024591   A   G   0.999973  223303\n",
       "4      Y  Affx-89014410   A   G   0.999987  222556"
      ]
     },
     "execution_count": 2,
     "metadata": {},
     "output_type": "execute_result"
    }
   ],
   "source": [
    "# look at our SNP allele frequency\n",
    "# .afreq file obtained from running:\n",
    "#./plink2 --bfile gene_data/ukb22418_cY_b0_v2 --freq --out gene_data/chrY_snp\n",
    "snps = pd.read_csv(\"gene_data/chrY_snp.afreq\",sep=\"\\t\")\n",
    "print(snps.shape)\n",
    "snps.head()"
   ]
  },
  {
   "cell_type": "code",
   "execution_count": 3,
   "metadata": {},
   "outputs": [
    {
     "data": {
      "text/plain": [
       "(162, 7)"
      ]
     },
     "execution_count": 3,
     "metadata": {},
     "output_type": "execute_result"
    }
   ],
   "source": [
    "# get those just with rsids (common terminology for SNP IDs)\n",
    "rsids = [x for x in snps[\"ID\"] if x[:2]==\"rs\"]\n",
    "rsid_snps = snps.loc[snps[\"ID\"].isin(rsids)].copy()\n",
    "\n",
    "rsid_snps[\"REF_FREQS\"] = 1 - rsid_snps[\"ALT_FREQS\"]\n",
    "\n",
    "rsid_snps.shape"
   ]
  },
  {
   "cell_type": "code",
   "execution_count": 4,
   "metadata": {
    "collapsed": true
   },
   "outputs": [],
   "source": [
    "rsid_snps[\"ID\"].to_csv(\"chrY_rsids.csv\",index=False)"
   ]
  },
  {
   "cell_type": "code",
   "execution_count": 5,
   "metadata": {},
   "outputs": [
    {
     "data": {
      "text/html": [
       "<div>\n",
       "<table border=\"1\" class=\"dataframe\">\n",
       "  <thead>\n",
       "    <tr style=\"text-align: right;\">\n",
       "      <th></th>\n",
       "      <th>#Uploaded_variation</th>\n",
       "      <th>Location</th>\n",
       "      <th>Allele</th>\n",
       "      <th>Consequence</th>\n",
       "      <th>IMPACT</th>\n",
       "      <th>SYMBOL</th>\n",
       "      <th>Gene</th>\n",
       "      <th>Feature_type</th>\n",
       "      <th>Feature</th>\n",
       "      <th>BIOTYPE</th>\n",
       "      <th>...</th>\n",
       "      <th>PHENO</th>\n",
       "      <th>PUBMED</th>\n",
       "      <th>MOTIF_NAME</th>\n",
       "      <th>MOTIF_POS</th>\n",
       "      <th>HIGH_INF_POS</th>\n",
       "      <th>MOTIF_SCORE_CHANGE</th>\n",
       "      <th>TRANSCRIPTION_FACTORS</th>\n",
       "      <th>ada_score</th>\n",
       "      <th>rf_score</th>\n",
       "      <th>BLOSUM62</th>\n",
       "    </tr>\n",
       "  </thead>\n",
       "  <tbody>\n",
       "    <tr>\n",
       "      <th>0</th>\n",
       "      <td>rs1800865</td>\n",
       "      <td>Y:2658271-2658271</td>\n",
       "      <td>A</td>\n",
       "      <td>upstream_gene_variant</td>\n",
       "      <td>MODIFIER</td>\n",
       "      <td>SRY</td>\n",
       "      <td>ENSG00000184895</td>\n",
       "      <td>Transcript</td>\n",
       "      <td>ENST00000383070.1</td>\n",
       "      <td>protein_coding</td>\n",
       "      <td>...</td>\n",
       "      <td>-</td>\n",
       "      <td>-</td>\n",
       "      <td>-</td>\n",
       "      <td>-</td>\n",
       "      <td>-</td>\n",
       "      <td>-</td>\n",
       "      <td>-</td>\n",
       "      <td>-</td>\n",
       "      <td>-</td>\n",
       "      <td>-</td>\n",
       "    </tr>\n",
       "    <tr>\n",
       "      <th>1</th>\n",
       "      <td>rs1800865</td>\n",
       "      <td>Y:2658271-2658271</td>\n",
       "      <td>A</td>\n",
       "      <td>non_coding_transcript_exon_variant</td>\n",
       "      <td>MODIFIER</td>\n",
       "      <td>RNASEH2CP1</td>\n",
       "      <td>ENSG00000237659</td>\n",
       "      <td>Transcript</td>\n",
       "      <td>ENST00000454281.1</td>\n",
       "      <td>processed_pseudogene</td>\n",
       "      <td>...</td>\n",
       "      <td>-</td>\n",
       "      <td>-</td>\n",
       "      <td>-</td>\n",
       "      <td>-</td>\n",
       "      <td>-</td>\n",
       "      <td>-</td>\n",
       "      <td>-</td>\n",
       "      <td>-</td>\n",
       "      <td>-</td>\n",
       "      <td>-</td>\n",
       "    </tr>\n",
       "    <tr>\n",
       "      <th>2</th>\n",
       "      <td>rs1800865</td>\n",
       "      <td>Y:2658271-2658271</td>\n",
       "      <td>A</td>\n",
       "      <td>upstream_gene_variant</td>\n",
       "      <td>MODIFIER</td>\n",
       "      <td>SRY</td>\n",
       "      <td>ENSG00000184895</td>\n",
       "      <td>Transcript</td>\n",
       "      <td>ENST00000525526.2</td>\n",
       "      <td>protein_coding</td>\n",
       "      <td>...</td>\n",
       "      <td>-</td>\n",
       "      <td>-</td>\n",
       "      <td>-</td>\n",
       "      <td>-</td>\n",
       "      <td>-</td>\n",
       "      <td>-</td>\n",
       "      <td>-</td>\n",
       "      <td>-</td>\n",
       "      <td>-</td>\n",
       "      <td>-</td>\n",
       "    </tr>\n",
       "    <tr>\n",
       "      <th>3</th>\n",
       "      <td>rs1800865</td>\n",
       "      <td>Y:2658271-2658271</td>\n",
       "      <td>A</td>\n",
       "      <td>upstream_gene_variant</td>\n",
       "      <td>MODIFIER</td>\n",
       "      <td>SRY</td>\n",
       "      <td>ENSG00000184895</td>\n",
       "      <td>Transcript</td>\n",
       "      <td>ENST00000534739.2</td>\n",
       "      <td>protein_coding</td>\n",
       "      <td>...</td>\n",
       "      <td>-</td>\n",
       "      <td>-</td>\n",
       "      <td>-</td>\n",
       "      <td>-</td>\n",
       "      <td>-</td>\n",
       "      <td>-</td>\n",
       "      <td>-</td>\n",
       "      <td>-</td>\n",
       "      <td>-</td>\n",
       "      <td>-</td>\n",
       "    </tr>\n",
       "    <tr>\n",
       "      <th>4</th>\n",
       "      <td>rs35284970</td>\n",
       "      <td>Y:2734854-2734854</td>\n",
       "      <td>T</td>\n",
       "      <td>synonymous_variant</td>\n",
       "      <td>LOW</td>\n",
       "      <td>RPS4Y1</td>\n",
       "      <td>ENSG00000129824</td>\n",
       "      <td>Transcript</td>\n",
       "      <td>ENST00000250784.8</td>\n",
       "      <td>protein_coding</td>\n",
       "      <td>...</td>\n",
       "      <td>-</td>\n",
       "      <td>28315050</td>\n",
       "      <td>-</td>\n",
       "      <td>-</td>\n",
       "      <td>-</td>\n",
       "      <td>-</td>\n",
       "      <td>-</td>\n",
       "      <td>-</td>\n",
       "      <td>-</td>\n",
       "      <td>-</td>\n",
       "    </tr>\n",
       "  </tbody>\n",
       "</table>\n",
       "<p>5 rows × 44 columns</p>\n",
       "</div>"
      ],
      "text/plain": [
       "  #Uploaded_variation           Location Allele  \\\n",
       "0           rs1800865  Y:2658271-2658271      A   \n",
       "1           rs1800865  Y:2658271-2658271      A   \n",
       "2           rs1800865  Y:2658271-2658271      A   \n",
       "3           rs1800865  Y:2658271-2658271      A   \n",
       "4          rs35284970  Y:2734854-2734854      T   \n",
       "\n",
       "                          Consequence    IMPACT      SYMBOL             Gene  \\\n",
       "0               upstream_gene_variant  MODIFIER         SRY  ENSG00000184895   \n",
       "1  non_coding_transcript_exon_variant  MODIFIER  RNASEH2CP1  ENSG00000237659   \n",
       "2               upstream_gene_variant  MODIFIER         SRY  ENSG00000184895   \n",
       "3               upstream_gene_variant  MODIFIER         SRY  ENSG00000184895   \n",
       "4                  synonymous_variant       LOW      RPS4Y1  ENSG00000129824   \n",
       "\n",
       "  Feature_type            Feature               BIOTYPE   ...    PHENO  \\\n",
       "0   Transcript  ENST00000383070.1        protein_coding   ...        -   \n",
       "1   Transcript  ENST00000454281.1  processed_pseudogene   ...        -   \n",
       "2   Transcript  ENST00000525526.2        protein_coding   ...        -   \n",
       "3   Transcript  ENST00000534739.2        protein_coding   ...        -   \n",
       "4   Transcript  ENST00000250784.8        protein_coding   ...        -   \n",
       "\n",
       "     PUBMED MOTIF_NAME MOTIF_POS HIGH_INF_POS MOTIF_SCORE_CHANGE  \\\n",
       "0         -          -         -            -                  -   \n",
       "1         -          -         -            -                  -   \n",
       "2         -          -         -            -                  -   \n",
       "3         -          -         -            -                  -   \n",
       "4  28315050          -         -            -                  -   \n",
       "\n",
       "  TRANSCRIPTION_FACTORS ada_score rf_score BLOSUM62  \n",
       "0                     -         -        -        -  \n",
       "1                     -         -        -        -  \n",
       "2                     -         -        -        -  \n",
       "3                     -         -        -        -  \n",
       "4                     -         -        -        -  \n",
       "\n",
       "[5 rows x 44 columns]"
      ]
     },
     "execution_count": 5,
     "metadata": {},
     "output_type": "execute_result"
    }
   ],
   "source": [
    "## ran the RSIDs through the ENSEMBL variant effect predictor @ http://grch37.ensembl.org/Homo_sapiens/Tools/VEP\n",
    "## downloaded as a .txt locally and converted to a .csv to upload\n",
    "\n",
    "vep = pd.read_csv(\"gene_data/chrY_snps_VEP.csv\")\n",
    "vep.head()"
   ]
  },
  {
   "cell_type": "code",
   "execution_count": 6,
   "metadata": {},
   "outputs": [
    {
     "data": {
      "text/plain": [
       "(625, 51)"
      ]
     },
     "execution_count": 6,
     "metadata": {},
     "output_type": "execute_result"
    }
   ],
   "source": [
    "vepsnps = pd.merge(rsid_snps,vep,how=\"right\",left_on=\"ID\",right_on=\"#Uploaded_variation\")\n",
    "vepsnps.shape"
   ]
  },
  {
   "cell_type": "code",
   "execution_count": 17,
   "metadata": {},
   "outputs": [
    {
     "data": {
      "text/plain": [
       "(385, 51)"
      ]
     },
     "execution_count": 17,
     "metadata": {},
     "output_type": "execute_result"
    }
   ],
   "source": [
    "imp_snps = vepsnps.loc[vepsnps[\"Consequence\"].isin([\"3_prime_UTR_variant\",\"downstream_gene_variant\",\n",
    "                                                        \"intron_variant\",\"missense_variant\",\n",
    "                                                        \"regulatory_region_variant\",\n",
    "                                                        \"splice_region_variant,intron_variant\",\n",
    "                                                        \"upstream_gene_variant\"])].copy()\n",
    "imp_snps.shape"
   ]
  },
  {
   "cell_type": "code",
   "execution_count": 18,
   "metadata": {},
   "outputs": [
    {
     "data": {
      "text/plain": [
       "(352, 52)"
      ]
     },
     "execution_count": 18,
     "metadata": {},
     "output_type": "execute_result"
    }
   ],
   "source": [
    "imp_snps[\"START\"] = [x.split(\"Y:\")[1].split(\"-\")[0] for x in imp_snps[\"Location\"]]\n",
    "yq_snps = imp_snps.loc[imp_snps[\"START\"].astype(int) >= 12000000].copy()\n",
    "yq_snps.shape"
   ]
  },
  {
   "cell_type": "code",
   "execution_count": 19,
   "metadata": {},
   "outputs": [
    {
     "data": {
      "text/plain": [
       "78"
      ]
     },
     "execution_count": 19,
     "metadata": {},
     "output_type": "execute_result"
    }
   ],
   "source": [
    "len(np.unique(yq_snps[\"#Uploaded_variation\"]))"
   ]
  },
  {
   "cell_type": "code",
   "execution_count": 20,
   "metadata": {},
   "outputs": [
    {
     "data": {
      "text/plain": [
       "(145, 52)"
      ]
     },
     "execution_count": 20,
     "metadata": {},
     "output_type": "execute_result"
    }
   ],
   "source": [
    "common_snps = yq_snps.loc[(yq_snps[\"REF_FREQS\"]>=0.01)&(yq_snps[\"ALT_FREQS\"]>=0.01)].copy()\n",
    "common_snps = common_snps.loc[common_snps[\"SYMBOL\"]!=\"-\"]\n",
    "common_snps.shape"
   ]
  },
  {
   "cell_type": "code",
   "execution_count": 21,
   "metadata": {},
   "outputs": [
    {
     "data": {
      "text/plain": [
       "31"
      ]
     },
     "execution_count": 21,
     "metadata": {},
     "output_type": "execute_result"
    }
   ],
   "source": [
    "len(np.unique(common_snps[\"#Uploaded_variation\"]))"
   ]
  },
  {
   "cell_type": "code",
   "execution_count": 22,
   "metadata": {},
   "outputs": [
    {
     "data": {
      "text/plain": [
       "(43, 4)"
      ]
     },
     "execution_count": 22,
     "metadata": {},
     "output_type": "execute_result"
    }
   ],
   "source": [
    "interesting_snps = common_snps[[\"ID\",\"SYMBOL\",\"ALT_FREQS\",\"Consequence\"]].drop_duplicates()\n",
    "interesting_snps.to_csv(\"gene_data/chrY_interesting_snps.csv\")\n",
    "interesting_snps.shape"
   ]
  },
  {
   "cell_type": "code",
   "execution_count": 23,
   "metadata": {},
   "outputs": [
    {
     "data": {
      "text/plain": [
       "DDX3Y      11\n",
       "USP9Y      10\n",
       "EIF1AY      6\n",
       "UTY         5\n",
       "NLGN4Y      3\n",
       "RCC2P1      2\n",
       "MXRA5P1     2\n",
       "KDM5D       2\n",
       "RPS4Y2      1\n",
       "ARSEP1      1\n",
       "Name: SYMBOL, dtype: int64"
      ]
     },
     "execution_count": 23,
     "metadata": {},
     "output_type": "execute_result"
    }
   ],
   "source": [
    "interesting_snps.SYMBOL.value_counts()"
   ]
  },
  {
   "cell_type": "code",
   "execution_count": 27,
   "metadata": {},
   "outputs": [
    {
     "data": {
      "text/plain": [
       "array(['rs112386595', 'rs112910996', 'rs113875126', 'rs113899240',\n",
       "       'rs13305774', 'rs13447352', 'rs13447354', 'rs1558843', 'rs16980548',\n",
       "       'rs17221964', 'rs17222244', 'rs17222279', 'rs17307070',\n",
       "       'rs17307294', 'rs2020857', 'rs2032598', 'rs2032604', 'rs2032624',\n",
       "       'rs2032631', 'rs2032658', 'rs2713254', 'rs34630819', 'rs35108305',\n",
       "       'rs7067269', 'rs72625379', 'rs76415739', 'rs7893052', 'rs9341296',\n",
       "       'rs9341301', 'rs9786043', 'rs9786153'], dtype=object)"
      ]
     },
     "execution_count": 27,
     "metadata": {},
     "output_type": "execute_result"
    }
   ],
   "source": [
    "np.unique(interesting_snps.sort_values(by=\"SYMBOL\").ID)"
   ]
  },
  {
   "cell_type": "code",
   "execution_count": 39,
   "metadata": {},
   "outputs": [],
   "source": [
    "ids = pd.read_csv(\"clinical_data/cohort_ids.csv\",header=None)\n",
    "ids[\"fam\"]=ids\n",
    "ids.to_csv(\"clinical_data/cohort_ids.txt\",sep=\"\\t\",index=False,header=False)"
   ]
  },
  {
   "cell_type": "code",
   "execution_count": 43,
   "metadata": {},
   "outputs": [
    {
     "name": "stdout",
     "output_type": "stream",
     "text": [
      "PLINK v1.90b6.21 64-bit (19 Oct 2020)          www.cog-genomics.org/plink/1.9/\n",
      "(C) 2005-2020 Shaun Purcell, Christopher Chang   GNU General Public License v3\n",
      "Logging to gene_data/chrY.log.\n",
      "Options in effect:\n",
      "  --bfile gene_data/ukb22418_cY_b0_v2\n",
      "  --keep clinical_data/cohort_ids.txt\n",
      "  --out gene_data/chrY\n",
      "  --recode AD\n",
      "\n",
      "128678 MB RAM detected; reserving 64339 MB for main workspace.\n",
      "691 variants loaded from .bim file.\n",
      "488377 people (223459 males, 264780 females, 138 ambiguous) loaded from .fam.\n",
      "Ambiguous sex IDs written to gene_data/chrY.nosex .\n",
      "--keep: 181978 people remaining.\n",
      "Using 1 thread (no multithreaded calculations invoked).\n",
      "Before main variant filters, 181978 founders and 0 nonfounders present.\n",
      "Calculating allele frequencies... 10111213141516171819202122232425262728293031323334353637383940414243444546474849505152535455565758596061626364656667686970717273747576777879808182838485868788899091929394959697989 done.\n",
      "Total genotyping rate in remaining samples is 0.856194.\n",
      "691 variants and 181978 people pass filters and QC.\n",
      "Note: No phenotypes present.\n",
      "--recode AD to gene_data/chrY.raw ... 101112131415161718192021222324252627282930313233343536373839404142434445464748495051525354555657585960616263646566676869707172737475767778798081828384858687888990919293949596979899done.\n"
     ]
    }
   ],
   "source": [
    "!./plink --bfile gene_data/ukb22418_cY_b0_v2 --recode AD --keep clinical_data/cohort_ids.txt --out gene_data/chrY"
   ]
  },
  {
   "cell_type": "code",
   "execution_count": 57,
   "metadata": {},
   "outputs": [],
   "source": [
    "# snp_df = pd.read_csv(\"gene_data/chrY.raw\",sep=\" \")\n",
    "cols = [x for x in snp_df.columns if x.split(\"_\")[0] in [\"rs2032598\",\"rs2032631\"]]\n",
    "cols = [\"FID\"]+cols"
   ]
  },
  {
   "cell_type": "code",
   "execution_count": 68,
   "metadata": {},
   "outputs": [
    {
     "data": {
      "text/html": [
       "<div>\n",
       "<table border=\"1\" class=\"dataframe\">\n",
       "  <thead>\n",
       "    <tr style=\"text-align: right;\">\n",
       "      <th></th>\n",
       "      <th>FID</th>\n",
       "      <th>rs2032598_C</th>\n",
       "      <th>rs2032598_HET</th>\n",
       "      <th>rs2032631_G</th>\n",
       "      <th>rs2032631_HET</th>\n",
       "    </tr>\n",
       "  </thead>\n",
       "  <tbody>\n",
       "    <tr>\n",
       "      <th>0</th>\n",
       "      <td>2945717</td>\n",
       "      <td>0.0</td>\n",
       "      <td>0.0</td>\n",
       "      <td>2.0</td>\n",
       "      <td>0.0</td>\n",
       "    </tr>\n",
       "    <tr>\n",
       "      <th>1</th>\n",
       "      <td>3639347</td>\n",
       "      <td>0.0</td>\n",
       "      <td>0.0</td>\n",
       "      <td>2.0</td>\n",
       "      <td>0.0</td>\n",
       "    </tr>\n",
       "    <tr>\n",
       "      <th>2</th>\n",
       "      <td>4897831</td>\n",
       "      <td>0.0</td>\n",
       "      <td>0.0</td>\n",
       "      <td>2.0</td>\n",
       "      <td>0.0</td>\n",
       "    </tr>\n",
       "    <tr>\n",
       "      <th>3</th>\n",
       "      <td>3016210</td>\n",
       "      <td>0.0</td>\n",
       "      <td>0.0</td>\n",
       "      <td>0.0</td>\n",
       "      <td>0.0</td>\n",
       "    </tr>\n",
       "    <tr>\n",
       "      <th>4</th>\n",
       "      <td>4045582</td>\n",
       "      <td>0.0</td>\n",
       "      <td>0.0</td>\n",
       "      <td>2.0</td>\n",
       "      <td>0.0</td>\n",
       "    </tr>\n",
       "  </tbody>\n",
       "</table>\n",
       "</div>"
      ],
      "text/plain": [
       "       FID  rs2032598_C  rs2032598_HET  rs2032631_G  rs2032631_HET\n",
       "0  2945717          0.0            0.0          2.0            0.0\n",
       "1  3639347          0.0            0.0          2.0            0.0\n",
       "2  4897831          0.0            0.0          2.0            0.0\n",
       "3  3016210          0.0            0.0          0.0            0.0\n",
       "4  4045582          0.0            0.0          2.0            0.0"
      ]
     },
     "execution_count": 68,
     "metadata": {},
     "output_type": "execute_result"
    }
   ],
   "source": [
    "snp_df[cols].head()"
   ]
  },
  {
   "cell_type": "code",
   "execution_count": 75,
   "metadata": {},
   "outputs": [],
   "source": [
    "snp_df = snp_df[[\"FID\",\"rs2032598_C\",\"rs2032631_G\"]]\n",
    "snp_df2 = snp_df[[\"FID\",\"rs2032598_C\"]]\n",
    "snp_df2.columns = [\"userId\",\"exposure\"]\n",
    "snp_df2.dropna().to_csv(\"gene_data/rs2032598_C.csv\",index=False)\n",
    "snp_df = snp_df[[\"FID\",\"rs2032598_C\",\"rs2032631_G\"]]\n",
    "\n",
    "snp_df2 = snp_df[[\"FID\",\"rs2032631_G\"]]\n",
    "snp_df2.columns = [\"userId\",\"exposure\"]\n",
    "snp_df2.dropna().to_csv(\"gene_data/rs2032631_G.csv\",index=False)"
   ]
  },
  {
   "cell_type": "code",
   "execution_count": null,
   "metadata": {
    "collapsed": true
   },
   "outputs": [],
   "source": []
  }
 ],
 "metadata": {
  "kernelspec": {
   "display_name": "Python 3",
   "language": "python",
   "name": "python3"
  },
  "language_info": {
   "codemirror_mode": {
    "name": "ipython",
    "version": 3
   },
   "file_extension": ".py",
   "mimetype": "text/x-python",
   "name": "python",
   "nbconvert_exporter": "python",
   "pygments_lexer": "ipython3",
   "version": "3.6.1"
  }
 },
 "nbformat": 4,
 "nbformat_minor": 2
}
