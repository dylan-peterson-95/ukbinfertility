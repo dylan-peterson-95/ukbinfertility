{
 "cells": [
  {
   "cell_type": "code",
   "execution_count": null,
   "metadata": {},
   "outputs": [],
   "source": [
    "# !pip install lifelines"
   ]
  },
  {
   "cell_type": "code",
   "execution_count": 1,
   "metadata": {
    "ExecuteTime": {
     "end_time": "2021-05-30T19:23:24.361875Z",
     "start_time": "2021-05-30T19:23:16.369968Z"
    }
   },
   "outputs": [],
   "source": [
    "import pandas as pd\n",
    "import matplotlib.pyplot as plt\n",
    "import matplotlib.ticker as mtick\n",
    "import scipy.stats as sp\n",
    "import seaborn as sns\n",
    "import numpy as np\n",
    "from lifelines import KaplanMeierFitter"
   ]
  },
  {
   "cell_type": "code",
   "execution_count": 123,
   "metadata": {
    "ExecuteTime": {
     "end_time": "2021-05-30T20:16:45.085288Z",
     "start_time": "2021-05-30T20:16:32.082362Z"
    }
   },
   "outputs": [
    {
     "data": {
      "text/html": [
       "<div>\n",
       "<style scoped>\n",
       "    .dataframe tbody tr th:only-of-type {\n",
       "        vertical-align: middle;\n",
       "    }\n",
       "\n",
       "    .dataframe tbody tr th {\n",
       "        vertical-align: top;\n",
       "    }\n",
       "\n",
       "    .dataframe thead th {\n",
       "        text-align: right;\n",
       "    }\n",
       "</style>\n",
       "<table border=\"1\" class=\"dataframe\">\n",
       "  <thead>\n",
       "    <tr style=\"text-align: right;\">\n",
       "      <th></th>\n",
       "      <th>f.eid</th>\n",
       "      <th>f.31.0.0</th>\n",
       "      <th>f.34.0.0</th>\n",
       "      <th>f.52.0.0</th>\n",
       "      <th>f.84.0.0</th>\n",
       "      <th>f.84.0.1</th>\n",
       "      <th>f.84.0.2</th>\n",
       "      <th>f.84.0.3</th>\n",
       "      <th>f.84.0.4</th>\n",
       "      <th>f.84.0.5</th>\n",
       "      <th>...</th>\n",
       "      <th>f.42012.0.0</th>\n",
       "      <th>f.130706.0.0</th>\n",
       "      <th>f.130708.0.0</th>\n",
       "      <th>f.130710.0.0</th>\n",
       "      <th>f.130712.0.0</th>\n",
       "      <th>f.130714.0.0</th>\n",
       "      <th>f.131286.0.0</th>\n",
       "      <th>f.131294.0.0</th>\n",
       "      <th>f.132084.0.0</th>\n",
       "      <th>f.132085.0.0</th>\n",
       "    </tr>\n",
       "  </thead>\n",
       "  <tbody>\n",
       "    <tr>\n",
       "      <th>0</th>\n",
       "      <td>1000047</td>\n",
       "      <td>Male</td>\n",
       "      <td>1943</td>\n",
       "      <td>July</td>\n",
       "      <td>NaN</td>\n",
       "      <td>NaN</td>\n",
       "      <td>NaN</td>\n",
       "      <td>NaN</td>\n",
       "      <td>NaN</td>\n",
       "      <td>NaN</td>\n",
       "      <td>...</td>\n",
       "      <td>NaN</td>\n",
       "      <td>NaN</td>\n",
       "      <td>NaN</td>\n",
       "      <td>NaN</td>\n",
       "      <td>NaN</td>\n",
       "      <td>NaN</td>\n",
       "      <td>2010-06-28</td>\n",
       "      <td>NaN</td>\n",
       "      <td>NaN</td>\n",
       "      <td>NaN</td>\n",
       "    </tr>\n",
       "    <tr>\n",
       "      <th>1</th>\n",
       "      <td>1000050</td>\n",
       "      <td>Male</td>\n",
       "      <td>1958</td>\n",
       "      <td>October</td>\n",
       "      <td>NaN</td>\n",
       "      <td>NaN</td>\n",
       "      <td>NaN</td>\n",
       "      <td>NaN</td>\n",
       "      <td>NaN</td>\n",
       "      <td>NaN</td>\n",
       "      <td>...</td>\n",
       "      <td>NaN</td>\n",
       "      <td>NaN</td>\n",
       "      <td>NaN</td>\n",
       "      <td>NaN</td>\n",
       "      <td>NaN</td>\n",
       "      <td>NaN</td>\n",
       "      <td>NaN</td>\n",
       "      <td>NaN</td>\n",
       "      <td>NaN</td>\n",
       "      <td>NaN</td>\n",
       "    </tr>\n",
       "    <tr>\n",
       "      <th>2</th>\n",
       "      <td>1000068</td>\n",
       "      <td>Male</td>\n",
       "      <td>1942</td>\n",
       "      <td>October</td>\n",
       "      <td>NaN</td>\n",
       "      <td>NaN</td>\n",
       "      <td>NaN</td>\n",
       "      <td>NaN</td>\n",
       "      <td>NaN</td>\n",
       "      <td>NaN</td>\n",
       "      <td>...</td>\n",
       "      <td>NaN</td>\n",
       "      <td>NaN</td>\n",
       "      <td>2017-05-30</td>\n",
       "      <td>NaN</td>\n",
       "      <td>NaN</td>\n",
       "      <td>2004-04-01</td>\n",
       "      <td>2017-05-30</td>\n",
       "      <td>NaN</td>\n",
       "      <td>NaN</td>\n",
       "      <td>NaN</td>\n",
       "    </tr>\n",
       "    <tr>\n",
       "      <th>3</th>\n",
       "      <td>1000094</td>\n",
       "      <td>Male</td>\n",
       "      <td>1952</td>\n",
       "      <td>September</td>\n",
       "      <td>NaN</td>\n",
       "      <td>NaN</td>\n",
       "      <td>NaN</td>\n",
       "      <td>NaN</td>\n",
       "      <td>NaN</td>\n",
       "      <td>NaN</td>\n",
       "      <td>...</td>\n",
       "      <td>NaN</td>\n",
       "      <td>NaN</td>\n",
       "      <td>NaN</td>\n",
       "      <td>NaN</td>\n",
       "      <td>NaN</td>\n",
       "      <td>NaN</td>\n",
       "      <td>NaN</td>\n",
       "      <td>NaN</td>\n",
       "      <td>NaN</td>\n",
       "      <td>NaN</td>\n",
       "    </tr>\n",
       "    <tr>\n",
       "      <th>4</th>\n",
       "      <td>1000145</td>\n",
       "      <td>Male</td>\n",
       "      <td>1945</td>\n",
       "      <td>September</td>\n",
       "      <td>NaN</td>\n",
       "      <td>NaN</td>\n",
       "      <td>NaN</td>\n",
       "      <td>NaN</td>\n",
       "      <td>NaN</td>\n",
       "      <td>NaN</td>\n",
       "      <td>...</td>\n",
       "      <td>NaN</td>\n",
       "      <td>NaN</td>\n",
       "      <td>NaN</td>\n",
       "      <td>NaN</td>\n",
       "      <td>NaN</td>\n",
       "      <td>NaN</td>\n",
       "      <td>NaN</td>\n",
       "      <td>NaN</td>\n",
       "      <td>NaN</td>\n",
       "      <td>NaN</td>\n",
       "    </tr>\n",
       "  </tbody>\n",
       "</table>\n",
       "<p>5 rows × 320 columns</p>\n",
       "</div>"
      ],
      "text/plain": [
       "     f.eid f.31.0.0  f.34.0.0   f.52.0.0  f.84.0.0  f.84.0.1  f.84.0.2  \\\n",
       "0  1000047     Male      1943       July       NaN       NaN       NaN   \n",
       "1  1000050     Male      1958    October       NaN       NaN       NaN   \n",
       "2  1000068     Male      1942    October       NaN       NaN       NaN   \n",
       "3  1000094     Male      1952  September       NaN       NaN       NaN   \n",
       "4  1000145     Male      1945  September       NaN       NaN       NaN   \n",
       "\n",
       "   f.84.0.3  f.84.0.4  f.84.0.5  ...  f.42012.0.0  f.130706.0.0  f.130708.0.0  \\\n",
       "0       NaN       NaN       NaN  ...          NaN           NaN           NaN   \n",
       "1       NaN       NaN       NaN  ...          NaN           NaN           NaN   \n",
       "2       NaN       NaN       NaN  ...          NaN           NaN    2017-05-30   \n",
       "3       NaN       NaN       NaN  ...          NaN           NaN           NaN   \n",
       "4       NaN       NaN       NaN  ...          NaN           NaN           NaN   \n",
       "\n",
       "   f.130710.0.0  f.130712.0.0  f.130714.0.0  f.131286.0.0  f.131294.0.0  \\\n",
       "0           NaN           NaN           NaN    2010-06-28           NaN   \n",
       "1           NaN           NaN           NaN           NaN           NaN   \n",
       "2           NaN           NaN    2004-04-01    2017-05-30           NaN   \n",
       "3           NaN           NaN           NaN           NaN           NaN   \n",
       "4           NaN           NaN           NaN           NaN           NaN   \n",
       "\n",
       "   f.132084.0.0  f.132085.0.0  \n",
       "0           NaN           NaN  \n",
       "1           NaN           NaN  \n",
       "2           NaN           NaN  \n",
       "3           NaN           NaN  \n",
       "4           NaN           NaN  \n",
       "\n",
       "[5 rows x 320 columns]"
      ]
     },
     "execution_count": 123,
     "metadata": {},
     "output_type": "execute_result"
    }
   ],
   "source": [
    "# df = pd.read_csv(\"clinical_data/subset_cohort.csv\",low_memory=False)\n",
    "df = pd.read_csv(\"subset_cohort.csv\",low_memory=False)\n",
    "\n",
    "df.head()"
   ]
  },
  {
   "cell_type": "code",
   "execution_count": 124,
   "metadata": {
    "ExecuteTime": {
     "end_time": "2021-05-30T20:16:45.511655Z",
     "start_time": "2021-05-30T20:16:45.441529Z"
    }
   },
   "outputs": [
    {
     "data": {
      "text/html": [
       "<div>\n",
       "<style scoped>\n",
       "    .dataframe tbody tr th:only-of-type {\n",
       "        vertical-align: middle;\n",
       "    }\n",
       "\n",
       "    .dataframe tbody tr th {\n",
       "        vertical-align: top;\n",
       "    }\n",
       "\n",
       "    .dataframe thead th {\n",
       "        text-align: right;\n",
       "    }\n",
       "</style>\n",
       "<table border=\"1\" class=\"dataframe\">\n",
       "  <thead>\n",
       "    <tr style=\"text-align: right;\">\n",
       "      <th></th>\n",
       "      <th>eid</th>\n",
       "      <th>sex_f31_0_0</th>\n",
       "      <th>year_of_birth_f34_0_0</th>\n",
       "      <th>month_of_birth_f52_0_0</th>\n",
       "      <th>number_of_children_fathered_f2405_0_0</th>\n",
       "      <th>diabetes_diagnosed_by_doctor_f2443_0_0</th>\n",
       "      <th>cancer_diagnosed_by_doctor_f2453_0_0</th>\n",
       "      <th>age_high_blood_pressure_diagnosed_f2966_0_0</th>\n",
       "      <th>cancer_yearage_first_occurred_f84_0_0</th>\n",
       "      <th>age_heart_attack_diagnosed_f3894_0_0</th>\n",
       "      <th>...</th>\n",
       "      <th>age_at_cancer_diagnosis_f40008_0_0</th>\n",
       "      <th>description_of_cause_of_death_f40010_0_0</th>\n",
       "      <th>date_of_myocardial_infarction_f42000_0_0</th>\n",
       "      <th>date_of_stemi_f42002_0_0</th>\n",
       "      <th>date_of_nstemi_f42004_0_0</th>\n",
       "      <th>date_of_stroke_f42006_0_0</th>\n",
       "      <th>date_of_ischaemic_stroke_f42008_0_0</th>\n",
       "      <th>date_n46_first_reported_male_infertility_f132084_0_0</th>\n",
       "      <th>source_of_report_of_n46_male_infertility_f132085_0_0</th>\n",
       "      <th>infertile</th>\n",
       "    </tr>\n",
       "  </thead>\n",
       "  <tbody>\n",
       "    <tr>\n",
       "      <th>0</th>\n",
       "      <td>1000047</td>\n",
       "      <td>Male</td>\n",
       "      <td>1943</td>\n",
       "      <td>July</td>\n",
       "      <td>0.0</td>\n",
       "      <td>No</td>\n",
       "      <td>No</td>\n",
       "      <td>NaN</td>\n",
       "      <td>NaN</td>\n",
       "      <td>NaN</td>\n",
       "      <td>...</td>\n",
       "      <td>NaN</td>\n",
       "      <td>NaN</td>\n",
       "      <td>NaN</td>\n",
       "      <td>NaN</td>\n",
       "      <td>NaN</td>\n",
       "      <td>NaN</td>\n",
       "      <td>NaN</td>\n",
       "      <td>NaN</td>\n",
       "      <td>NaN</td>\n",
       "      <td>False</td>\n",
       "    </tr>\n",
       "    <tr>\n",
       "      <th>1</th>\n",
       "      <td>1000050</td>\n",
       "      <td>Male</td>\n",
       "      <td>1958</td>\n",
       "      <td>October</td>\n",
       "      <td>2.0</td>\n",
       "      <td>No</td>\n",
       "      <td>No</td>\n",
       "      <td>NaN</td>\n",
       "      <td>NaN</td>\n",
       "      <td>NaN</td>\n",
       "      <td>...</td>\n",
       "      <td>NaN</td>\n",
       "      <td>NaN</td>\n",
       "      <td>NaN</td>\n",
       "      <td>NaN</td>\n",
       "      <td>NaN</td>\n",
       "      <td>NaN</td>\n",
       "      <td>NaN</td>\n",
       "      <td>NaN</td>\n",
       "      <td>NaN</td>\n",
       "      <td>False</td>\n",
       "    </tr>\n",
       "    <tr>\n",
       "      <th>2</th>\n",
       "      <td>1000068</td>\n",
       "      <td>Male</td>\n",
       "      <td>1942</td>\n",
       "      <td>October</td>\n",
       "      <td>2.0</td>\n",
       "      <td>Yes</td>\n",
       "      <td>No</td>\n",
       "      <td>62.0</td>\n",
       "      <td>NaN</td>\n",
       "      <td>NaN</td>\n",
       "      <td>...</td>\n",
       "      <td>69.7</td>\n",
       "      <td>NaN</td>\n",
       "      <td>NaN</td>\n",
       "      <td>NaN</td>\n",
       "      <td>NaN</td>\n",
       "      <td>NaN</td>\n",
       "      <td>NaN</td>\n",
       "      <td>NaN</td>\n",
       "      <td>NaN</td>\n",
       "      <td>False</td>\n",
       "    </tr>\n",
       "    <tr>\n",
       "      <th>3</th>\n",
       "      <td>1000094</td>\n",
       "      <td>Male</td>\n",
       "      <td>1952</td>\n",
       "      <td>September</td>\n",
       "      <td>2.0</td>\n",
       "      <td>No</td>\n",
       "      <td>No</td>\n",
       "      <td>NaN</td>\n",
       "      <td>NaN</td>\n",
       "      <td>NaN</td>\n",
       "      <td>...</td>\n",
       "      <td>NaN</td>\n",
       "      <td>NaN</td>\n",
       "      <td>NaN</td>\n",
       "      <td>NaN</td>\n",
       "      <td>NaN</td>\n",
       "      <td>NaN</td>\n",
       "      <td>NaN</td>\n",
       "      <td>NaN</td>\n",
       "      <td>NaN</td>\n",
       "      <td>False</td>\n",
       "    </tr>\n",
       "    <tr>\n",
       "      <th>4</th>\n",
       "      <td>1000145</td>\n",
       "      <td>Male</td>\n",
       "      <td>1945</td>\n",
       "      <td>September</td>\n",
       "      <td>2.0</td>\n",
       "      <td>No</td>\n",
       "      <td>No</td>\n",
       "      <td>NaN</td>\n",
       "      <td>NaN</td>\n",
       "      <td>NaN</td>\n",
       "      <td>...</td>\n",
       "      <td>NaN</td>\n",
       "      <td>NaN</td>\n",
       "      <td>NaN</td>\n",
       "      <td>NaN</td>\n",
       "      <td>NaN</td>\n",
       "      <td>NaN</td>\n",
       "      <td>NaN</td>\n",
       "      <td>NaN</td>\n",
       "      <td>NaN</td>\n",
       "      <td>False</td>\n",
       "    </tr>\n",
       "  </tbody>\n",
       "</table>\n",
       "<p>5 rows × 29 columns</p>\n",
       "</div>"
      ],
      "text/plain": [
       "       eid sex_f31_0_0  year_of_birth_f34_0_0 month_of_birth_f52_0_0  \\\n",
       "0  1000047        Male                   1943                   July   \n",
       "1  1000050        Male                   1958                October   \n",
       "2  1000068        Male                   1942                October   \n",
       "3  1000094        Male                   1952              September   \n",
       "4  1000145        Male                   1945              September   \n",
       "\n",
       "   number_of_children_fathered_f2405_0_0  \\\n",
       "0                                    0.0   \n",
       "1                                    2.0   \n",
       "2                                    2.0   \n",
       "3                                    2.0   \n",
       "4                                    2.0   \n",
       "\n",
       "  diabetes_diagnosed_by_doctor_f2443_0_0 cancer_diagnosed_by_doctor_f2453_0_0  \\\n",
       "0                                     No                                   No   \n",
       "1                                     No                                   No   \n",
       "2                                    Yes                                   No   \n",
       "3                                     No                                   No   \n",
       "4                                     No                                   No   \n",
       "\n",
       "   age_high_blood_pressure_diagnosed_f2966_0_0  \\\n",
       "0                                          NaN   \n",
       "1                                          NaN   \n",
       "2                                         62.0   \n",
       "3                                          NaN   \n",
       "4                                          NaN   \n",
       "\n",
       "   cancer_yearage_first_occurred_f84_0_0  \\\n",
       "0                                    NaN   \n",
       "1                                    NaN   \n",
       "2                                    NaN   \n",
       "3                                    NaN   \n",
       "4                                    NaN   \n",
       "\n",
       "   age_heart_attack_diagnosed_f3894_0_0  ...  \\\n",
       "0                                   NaN  ...   \n",
       "1                                   NaN  ...   \n",
       "2                                   NaN  ...   \n",
       "3                                   NaN  ...   \n",
       "4                                   NaN  ...   \n",
       "\n",
       "   age_at_cancer_diagnosis_f40008_0_0  \\\n",
       "0                                 NaN   \n",
       "1                                 NaN   \n",
       "2                                69.7   \n",
       "3                                 NaN   \n",
       "4                                 NaN   \n",
       "\n",
       "   description_of_cause_of_death_f40010_0_0  \\\n",
       "0                                       NaN   \n",
       "1                                       NaN   \n",
       "2                                       NaN   \n",
       "3                                       NaN   \n",
       "4                                       NaN   \n",
       "\n",
       "   date_of_myocardial_infarction_f42000_0_0 date_of_stemi_f42002_0_0  \\\n",
       "0                                       NaN                      NaN   \n",
       "1                                       NaN                      NaN   \n",
       "2                                       NaN                      NaN   \n",
       "3                                       NaN                      NaN   \n",
       "4                                       NaN                      NaN   \n",
       "\n",
       "   date_of_nstemi_f42004_0_0 date_of_stroke_f42006_0_0  \\\n",
       "0                        NaN                       NaN   \n",
       "1                        NaN                       NaN   \n",
       "2                        NaN                       NaN   \n",
       "3                        NaN                       NaN   \n",
       "4                        NaN                       NaN   \n",
       "\n",
       "  date_of_ischaemic_stroke_f42008_0_0  \\\n",
       "0                                 NaN   \n",
       "1                                 NaN   \n",
       "2                                 NaN   \n",
       "3                                 NaN   \n",
       "4                                 NaN   \n",
       "\n",
       "   date_n46_first_reported_male_infertility_f132084_0_0  \\\n",
       "0                                                NaN      \n",
       "1                                                NaN      \n",
       "2                                                NaN      \n",
       "3                                                NaN      \n",
       "4                                                NaN      \n",
       "\n",
       "   source_of_report_of_n46_male_infertility_f132085_0_0  infertile  \n",
       "0                                                NaN         False  \n",
       "1                                                NaN         False  \n",
       "2                                                NaN         False  \n",
       "3                                                NaN         False  \n",
       "4                                                NaN         False  \n",
       "\n",
       "[5 rows x 29 columns]"
      ]
     },
     "execution_count": 124,
     "metadata": {},
     "output_type": "execute_result"
    }
   ],
   "source": [
    "colnames=['eid',\n",
    "          'sex_f31_0_0','year_of_birth_f34_0_0',\n",
    "'month_of_birth_f52_0_0','number_of_children_fathered_f2405_0_0',\n",
    " 'diabetes_diagnosed_by_doctor_f2443_0_0',\n",
    " 'cancer_diagnosed_by_doctor_f2453_0_0',\n",
    " 'age_high_blood_pressure_diagnosed_f2966_0_0',\n",
    " 'cancer_yearage_first_occurred_f84_0_0',\n",
    " 'age_heart_attack_diagnosed_f3894_0_0',\n",
    " 'age_diabetes_diagnosed_f2976_0_0',\n",
    " 'cancer_code_selfreported_f20001_0_0',\n",
    " 'interpolated_age_of_participant_when_cancer_first_diagnosed_f20007_0_0',\n",
    " 'smoking_status_f20116_0_0',\n",
    " 'body_mass_index_bmi_f21001_0_0',\n",
    " 'date_of_death_f40000_0_0',\n",
    " 'type_of_cancer_icd10_f40006_0_0',\n",
    " 'age_at_death_f40007_0_0',\n",
    " 'age_at_death_f40007_1_0',\n",
    " 'age_at_cancer_diagnosis_f40008_0_0',\n",
    " 'description_of_cause_of_death_f40010_0_0',\n",
    " 'date_of_myocardial_infarction_f42000_0_0',\n",
    " 'date_of_stemi_f42002_0_0',\n",
    " 'date_of_nstemi_f42004_0_0',\n",
    " 'date_of_stroke_f42006_0_0',\n",
    " 'date_of_ischaemic_stroke_f42008_0_0',\n",
    " 'date_n46_first_reported_male_infertility_f132084_0_0',\n",
    " 'source_of_report_of_n46_male_infertility_f132085_0_0']\n",
    "\n",
    "cols = [\"f.eid\",\"f.31.0.0\",\"f.34.0.0\",\"f.52.0.0\",'f.2405.0.0',\n",
    " 'f.2443.0.0',\n",
    " 'f.2453.0.0',\n",
    " 'f.2966.0.0',\n",
    " 'f.84.0.0',\n",
    " 'f.3894.0.0',\n",
    " 'f.2976.0.0',\n",
    " 'f.20001.0.0',\n",
    " 'f.20007.0.0',\n",
    " 'f.20116.0.0',\n",
    " 'f.21001.0.0',\n",
    " 'f.40000.0.0',\n",
    " 'f.40006.0.0',\n",
    " 'f.40007.0.0',\n",
    " 'f.40007.1.0',\n",
    " 'f.40008.0.0',\n",
    " 'f.40010.0.0',\n",
    " 'f.42000.0.0',\n",
    " 'f.42002.0.0',\n",
    " 'f.42004.0.0',\n",
    " 'f.42006.0.0',\n",
    " 'f.42008.0.0',\n",
    " 'f.132084.0.0',\n",
    " 'f.132085.0.0']\n",
    "\n",
    "df = df[cols]\n",
    "df.columns=colnames\n",
    "df[\"infertile\"]=df['date_n46_first_reported_male_infertility_f132084_0_0'].notnull()\n",
    "\n",
    "df.head()"
   ]
  },
  {
   "cell_type": "code",
   "execution_count": 125,
   "metadata": {
    "ExecuteTime": {
     "end_time": "2021-05-30T20:16:45.869190Z",
     "start_time": "2021-05-30T20:16:45.813944Z"
    }
   },
   "outputs": [
    {
     "data": {
      "text/plain": [
       "((456, 29), (181522, 29))"
      ]
     },
     "execution_count": 125,
     "metadata": {},
     "output_type": "execute_result"
    }
   ],
   "source": [
    "infertile_df = df.loc[df[\"infertile\"]]\n",
    "fertile_df = df.loc[~df[\"infertile\"]]\n",
    "infertile_df.shape,fertile_df.shape"
   ]
  },
  {
   "cell_type": "code",
   "execution_count": 126,
   "metadata": {
    "ExecuteTime": {
     "end_time": "2021-05-30T20:16:46.311132Z",
     "start_time": "2021-05-30T20:16:46.227084Z"
    }
   },
   "outputs": [
    {
     "data": {
      "text/html": [
       "<div>\n",
       "<style scoped>\n",
       "    .dataframe tbody tr th:only-of-type {\n",
       "        vertical-align: middle;\n",
       "    }\n",
       "\n",
       "    .dataframe tbody tr th {\n",
       "        vertical-align: top;\n",
       "    }\n",
       "\n",
       "    .dataframe thead th {\n",
       "        text-align: right;\n",
       "    }\n",
       "</style>\n",
       "<table border=\"1\" class=\"dataframe\">\n",
       "  <thead>\n",
       "    <tr style=\"text-align: right;\">\n",
       "      <th></th>\n",
       "      <th>eid</th>\n",
       "      <th>year_of_birth_f34_0_0</th>\n",
       "      <th>number_of_children_fathered_f2405_0_0</th>\n",
       "      <th>age_high_blood_pressure_diagnosed_f2966_0_0</th>\n",
       "      <th>cancer_yearage_first_occurred_f84_0_0</th>\n",
       "      <th>age_heart_attack_diagnosed_f3894_0_0</th>\n",
       "      <th>age_diabetes_diagnosed_f2976_0_0</th>\n",
       "      <th>cancer_code_selfreported_f20001_0_0</th>\n",
       "      <th>interpolated_age_of_participant_when_cancer_first_diagnosed_f20007_0_0</th>\n",
       "      <th>body_mass_index_bmi_f21001_0_0</th>\n",
       "      <th>age_at_death_f40007_0_0</th>\n",
       "      <th>age_at_death_f40007_1_0</th>\n",
       "      <th>age_at_cancer_diagnosis_f40008_0_0</th>\n",
       "    </tr>\n",
       "    <tr>\n",
       "      <th>infertile</th>\n",
       "      <th></th>\n",
       "      <th></th>\n",
       "      <th></th>\n",
       "      <th></th>\n",
       "      <th></th>\n",
       "      <th></th>\n",
       "      <th></th>\n",
       "      <th></th>\n",
       "      <th></th>\n",
       "      <th></th>\n",
       "      <th></th>\n",
       "      <th></th>\n",
       "      <th></th>\n",
       "    </tr>\n",
       "  </thead>\n",
       "  <tbody>\n",
       "    <tr>\n",
       "      <th>False</th>\n",
       "      <td>3.513190e+06</td>\n",
       "      <td>1950.887931</td>\n",
       "      <td>1.752885</td>\n",
       "      <td>48.201365</td>\n",
       "      <td>1801.641253</td>\n",
       "      <td>51.538585</td>\n",
       "      <td>50.544395</td>\n",
       "      <td>1831.944239</td>\n",
       "      <td>54.178025</td>\n",
       "      <td>27.846765</td>\n",
       "      <td>69.853325</td>\n",
       "      <td>67.010811</td>\n",
       "      <td>61.420108</td>\n",
       "    </tr>\n",
       "    <tr>\n",
       "      <th>True</th>\n",
       "      <td>3.661175e+06</td>\n",
       "      <td>1954.945175</td>\n",
       "      <td>1.127193</td>\n",
       "      <td>46.373832</td>\n",
       "      <td>1547.025641</td>\n",
       "      <td>46.444444</td>\n",
       "      <td>46.352941</td>\n",
       "      <td>1039.564103</td>\n",
       "      <td>46.687179</td>\n",
       "      <td>27.810567</td>\n",
       "      <td>66.940000</td>\n",
       "      <td>NaN</td>\n",
       "      <td>53.958333</td>\n",
       "    </tr>\n",
       "  </tbody>\n",
       "</table>\n",
       "</div>"
      ],
      "text/plain": [
       "                    eid  year_of_birth_f34_0_0  \\\n",
       "infertile                                        \n",
       "False      3.513190e+06            1950.887931   \n",
       "True       3.661175e+06            1954.945175   \n",
       "\n",
       "           number_of_children_fathered_f2405_0_0  \\\n",
       "infertile                                          \n",
       "False                                   1.752885   \n",
       "True                                    1.127193   \n",
       "\n",
       "           age_high_blood_pressure_diagnosed_f2966_0_0  \\\n",
       "infertile                                                \n",
       "False                                        48.201365   \n",
       "True                                         46.373832   \n",
       "\n",
       "           cancer_yearage_first_occurred_f84_0_0  \\\n",
       "infertile                                          \n",
       "False                                1801.641253   \n",
       "True                                 1547.025641   \n",
       "\n",
       "           age_heart_attack_diagnosed_f3894_0_0  \\\n",
       "infertile                                         \n",
       "False                                 51.538585   \n",
       "True                                  46.444444   \n",
       "\n",
       "           age_diabetes_diagnosed_f2976_0_0  \\\n",
       "infertile                                     \n",
       "False                             50.544395   \n",
       "True                              46.352941   \n",
       "\n",
       "           cancer_code_selfreported_f20001_0_0  \\\n",
       "infertile                                        \n",
       "False                              1831.944239   \n",
       "True                               1039.564103   \n",
       "\n",
       "           interpolated_age_of_participant_when_cancer_first_diagnosed_f20007_0_0  \\\n",
       "infertile                                                                           \n",
       "False                                              54.178025                        \n",
       "True                                               46.687179                        \n",
       "\n",
       "           body_mass_index_bmi_f21001_0_0  age_at_death_f40007_0_0  \\\n",
       "infertile                                                            \n",
       "False                           27.846765                69.853325   \n",
       "True                            27.810567                66.940000   \n",
       "\n",
       "           age_at_death_f40007_1_0  age_at_cancer_diagnosis_f40008_0_0  \n",
       "infertile                                                               \n",
       "False                    67.010811                           61.420108  \n",
       "True                           NaN                           53.958333  "
      ]
     },
     "execution_count": 126,
     "metadata": {},
     "output_type": "execute_result"
    }
   ],
   "source": [
    "df.groupby([\"infertile\"]).mean()"
   ]
  },
  {
   "cell_type": "code",
   "execution_count": 127,
   "metadata": {
    "ExecuteTime": {
     "end_time": "2021-05-30T20:16:47.021876Z",
     "start_time": "2021-05-30T20:16:46.655499Z"
    }
   },
   "outputs": [
    {
     "data": {
      "image/png": "[encoded data removed]",
      "text/plain": [
       "<Figure size 432x288 with 1 Axes>"
      ]
     },
     "metadata": {
      "needs_background": "light"
     },
     "output_type": "display_data"
    }
   ],
   "source": [
    "# plt.boxplot(list([infertile_df[\"number_of_children_fathered_f2405_0_0\"].values,\n",
    "#              fertile_df[\"number_of_children_fathered_f2405_0_0\"].values]))\n",
    "# plt.show()\n",
    "\n",
    "child_df = df[[\"number_of_children_fathered_f2405_0_0\",\"infertile\"]].copy()\n",
    "child_df[\"number_of_children_fathered_f2405_0_0\"] = child_df[\"number_of_children_fathered_f2405_0_0\"].replace({-3.0:np.nan,-1.0:np.nan})\n",
    "child_df = child_df.dropna()\n",
    "\n",
    "fig,ax = plt.subplots()\n",
    "child_df.boxplot(column=\"number_of_children_fathered_f2405_0_0\",by=\"infertile\",showfliers=False,ax=ax,showmeans=True,\n",
    "                 meanprops={\"marker\":\"o\",\n",
    "                       \"markerfacecolor\":\"red\", \n",
    "                       \"markeredgecolor\":\"red\",\n",
    "                      \"markersize\":\"6\"})\n",
    "ax.set_title(\"Number of Children Fathered\")\n",
    "ax.set_ylabel(\"Number of children\")\n",
    "ax.set_xlabel(\"Fertility Status\")\n",
    "ax.set_xticklabels([\"Fertile\",\"Infertile\"])\n",
    "plt.suptitle(\"\")\n",
    "plt.show()"
   ]
  },
  {
   "cell_type": "code",
   "execution_count": 207,
   "metadata": {
    "ExecuteTime": {
     "end_time": "2021-05-30T20:48:48.448564Z",
     "start_time": "2021-05-30T20:48:48.242897Z"
    }
   },
   "outputs": [
    {
     "data": {
      "image/png": "[encoded data removed]",
      "text/plain": [
       "<Figure size 432x288 with 1 Axes>"
      ]
     },
     "metadata": {
      "needs_background": "light"
     },
     "output_type": "display_data"
    }
   ],
   "source": [
    "fig,ax = plt.subplots()\n",
    "sns.boxplot(x=\"infertile\",y=\"number_of_children_fathered_f2405_0_0\",data=child_df, order=[True,False],\n",
    "            showfliers=False,showmeans=True,\n",
    "            meanprops={\"marker\":\"o\",\n",
    "                       \"markerfacecolor\":\"red\", \n",
    "                       \"markeredgecolor\":\"red\",\n",
    "                      \"markersize\":\"10\"},ax=ax)\n",
    "\n",
    "plt.title(\"Number of Children Fathered\")\n",
    "plt.ylabel(\"Number of children\")\n",
    "plt.xlabel(\"Fertility Status\")\n",
    "ax.set_xticklabels([\"Infertile\",\"Fertile\"])\n",
    "plt.suptitle(\"\")\n",
    "plt.show()"
   ]
  },
  {
   "cell_type": "code",
   "execution_count": 197,
   "metadata": {
    "ExecuteTime": {
     "end_time": "2021-05-30T20:46:27.986302Z",
     "start_time": "2021-05-30T20:46:27.949070Z"
    }
   },
   "outputs": [
    {
     "name": "stdout",
     "output_type": "stream",
     "text": [
      "Mean:             number_of_children_fathered_f2405_0_0\n",
      "infertile                                       \n",
      "False                                   1.778829\n",
      "True                                    1.163717 \n",
      "\n",
      "STD:             number_of_children_fathered_f2405_0_0\n",
      "infertile                                       \n",
      "False                                   1.256018\n",
      "True                                    1.292898\n"
     ]
    },
    {
     "data": {
      "text/plain": [
       "Ttest_indResult(statistic=-10.398017372627374, pvalue=2.573518493298454e-25)"
      ]
     },
     "execution_count": 197,
     "metadata": {},
     "output_type": "execute_result"
    }
   ],
   "source": [
    "print(\"Mean: \",child_df.groupby(\"infertile\").mean(),\"\\n\\nSTD: \",child_df.groupby(\"infertile\").std())\n",
    "sp.ttest_ind(child_df.loc[child_df[\"infertile\"],\"number_of_children_fathered_f2405_0_0\"].values,\n",
    "             child_df.loc[~child_df[\"infertile\"],\"number_of_children_fathered_f2405_0_0\"].values,)"
   ]
  },
  {
   "cell_type": "code",
   "execution_count": 130,
   "metadata": {
    "ExecuteTime": {
     "end_time": "2021-05-30T20:16:48.180972Z",
     "start_time": "2021-05-30T20:16:47.858609Z"
    }
   },
   "outputs": [
    {
     "data": {
      "image/png": "[encoded data removed]",
      "text/plain": [
       "<Figure size 432x288 with 1 Axes>"
      ]
     },
     "metadata": {
      "needs_background": "light"
     },
     "output_type": "display_data"
    }
   ],
   "source": [
    "disease = \"cancer\"\n",
    "Disease=\"Cancer\"\n",
    "variable = \"age_at_cancer_diagnosis_f40008_0_0\"\n",
    "\n",
    "df[disease] = df[variable].notna()\n",
    "df[\"age_\"+disease] = 2016-df[\"year_of_birth_f34_0_0\"]\n",
    "df.loc[df[disease],\"age_\"+disease] = df.loc[df[disease].notna(),variable]\n",
    "\n",
    "fig,ax = plt.subplots()\n",
    "t=np.linspace(30,round(df[\"age_\"+disease].max()))\n",
    "\n",
    "kmf = KaplanMeierFitter()\n",
    "kmf.fit(df.loc[df[\"infertile\"],[\"age_\"+disease]], event_observed=df.loc[df[\"infertile\"],[disease]], timeline=t, label=\"Infertile\")\n",
    "ax = kmf.plot_survival_function()\n",
    "\n",
    "kmf.fit(df.loc[~df[\"infertile\"],[\"age_\"+disease]], event_observed=df.loc[~df[\"infertile\"],[disease]], timeline=t, label=\"Fertile\")\n",
    "ax = kmf.plot_survival_function()\n",
    "\n",
    "plt.title(\"Kaplan-Meier Survival Curves for \"+Disease)\n",
    "plt.xlabel(\"Age at \"+Disease+\" Diagnosis\")\n",
    "\n",
    "ax.yaxis.set_major_formatter(mtick.PercentFormatter(1,decimals=None))"
   ]
  },
  {
   "cell_type": "code",
   "execution_count": 131,
   "metadata": {
    "ExecuteTime": {
     "end_time": "2021-05-30T20:16:48.856221Z",
     "start_time": "2021-05-30T20:16:48.543413Z"
    }
   },
   "outputs": [
    {
     "data": {
      "image/png": "[encoded data removed]",
      "text/plain": [
       "<Figure size 432x288 with 1 Axes>"
      ]
     },
     "metadata": {
      "needs_background": "light"
     },
     "output_type": "display_data"
    }
   ],
   "source": [
    "disease = \"htn\"\n",
    "Disease=\"Hypertension\"\n",
    "variable = \"age_high_blood_pressure_diagnosed_f2966_0_0\"\n",
    "\n",
    "df[disease] = df[variable].notna()\n",
    "df[\"age_\"+disease] = 2021-df[\"year_of_birth_f34_0_0\"]\n",
    "df.loc[df[disease],\"age_\"+disease] = df.loc[df[disease].notna(),variable]\n",
    "\n",
    "fig,ax = plt.subplots()\n",
    "t=np.linspace(30,round(df[\"age_\"+disease].max()))\n",
    "\n",
    "kmf = KaplanMeierFitter()\n",
    "kmf.fit(df.loc[df[\"infertile\"],[\"age_\"+disease]], event_observed=df.loc[df[\"infertile\"],[disease]], timeline=t, label=\"Infertile\")\n",
    "ax = kmf.plot_survival_function()\n",
    "\n",
    "kmf.fit(df.loc[~df[\"infertile\"],[\"age_\"+disease]], event_observed=df.loc[~df[\"infertile\"],[disease]], timeline=t, label=\"Fertile\")\n",
    "ax = kmf.plot_survival_function()\n",
    "\n",
    "plt.title(\"Kaplan-Meier Survival Curves for \"+Disease)\n",
    "plt.xlabel(\"Age at \"+Disease+\" Diagnosis\")\n",
    "\n",
    "ax.yaxis.set_major_formatter(mtick.PercentFormatter(1,decimals=None))"
   ]
  },
  {
   "cell_type": "code",
   "execution_count": 133,
   "metadata": {
    "ExecuteTime": {
     "end_time": "2021-05-30T20:16:50.149774Z",
     "start_time": "2021-05-30T20:16:49.815646Z"
    }
   },
   "outputs": [
    {
     "data": {
      "image/png": "[encoded data removed]",
      "text/plain": [
       "<Figure size 432x288 with 1 Axes>"
      ]
     },
     "metadata": {
      "needs_background": "light"
     },
     "output_type": "display_data"
    }
   ],
   "source": [
    "disease = \"dm\"\n",
    "Disease=\"Diabetes\"\n",
    "variable = \"age_diabetes_diagnosed_f2976_0_0\"\n",
    "\n",
    "df[disease] = df[variable].notna()\n",
    "df[\"age_\"+disease] = 2021-df[\"year_of_birth_f34_0_0\"]\n",
    "df.loc[df[disease],\"age_\"+disease] = df.loc[df[disease].notna(),variable]\n",
    "\n",
    "fig,ax = plt.subplots()\n",
    "t=np.linspace(30,round(df[\"age_\"+disease].max()))\n",
    "\n",
    "kmf = KaplanMeierFitter()\n",
    "kmf.fit(df.loc[df[\"infertile\"],[\"age_\"+disease]], event_observed=df.loc[df[\"infertile\"],[disease]], timeline=t, label=\"Infertile\")\n",
    "ax = kmf.plot_survival_function()\n",
    "\n",
    "kmf.fit(df.loc[~df[\"infertile\"],[\"age_\"+disease]], event_observed=df.loc[~df[\"infertile\"],[disease]], timeline=t, label=\"Fertile\")\n",
    "ax = kmf.plot_survival_function()\n",
    "\n",
    "plt.title(\"Kaplan-Meier Survival Curves for \"+Disease)\n",
    "plt.xlabel(\"Age at \"+Disease+\" Diagnosis\")\n",
    "\n",
    "ax.yaxis.set_major_formatter(mtick.PercentFormatter(1,decimals=None))"
   ]
  },
  {
   "cell_type": "code",
   "execution_count": 153,
   "metadata": {
    "ExecuteTime": {
     "end_time": "2021-05-30T20:23:52.235754Z",
     "start_time": "2021-05-30T20:23:52.231940Z"
    }
   },
   "outputs": [],
   "source": [
    "# disease = \"mi\"\n",
    "# Disease=\"Heart Attack\"\n",
    "# variable = \"age_heart_attack_diagnosed_f3894_0_0\"\n",
    "\n",
    "# df[disease] = df[variable].notna()\n",
    "# df[\"age_\"+disease] = 2021-df[\"year_of_birth_f34_0_0\"]\n",
    "# df.loc[df[disease],\"age_\"+disease] = df.loc[df[disease].notna(),variable]\n",
    "\n",
    "# fig,ax = plt.subplots()\n",
    "# t=np.linspace(30,round(df[\"age_\"+disease].max()))\n",
    "\n",
    "# kmf = KaplanMeierFitter()\n",
    "# kmf.fit(df.loc[df[\"infertile\"],[\"age_\"+disease]], event_observed=df.loc[df[\"infertile\"],[disease]], timeline=t, label=\"Infertile\")\n",
    "# ax = kmf.plot_survival_function()\n",
    "\n",
    "# kmf.fit(df.loc[~df[\"infertile\"],[\"age_\"+disease]], event_observed=df.loc[~df[\"infertile\"],[disease]], timeline=t, label=\"Fertile\")\n",
    "# ax = kmf.plot_survival_function()\n",
    "\n",
    "# plt.title(\"Kaplan-Meier Survival Curves for \"+Disease)\n",
    "# plt.xlabel(\"Age at \"+Disease+\" Diagnosis\")\n",
    "\n",
    "# ax.yaxis.set_major_formatter(mtick.PercentFormatter(1,decimals=None))"
   ]
  },
  {
   "cell_type": "code",
   "execution_count": 134,
   "metadata": {
    "ExecuteTime": {
     "end_time": "2021-05-30T20:16:50.757955Z",
     "start_time": "2021-05-30T20:16:50.430208Z"
    }
   },
   "outputs": [
    {
     "data": {
      "image/png": "[encoded data removed]",
      "text/plain": [
       "<Figure size 432x288 with 1 Axes>"
      ]
     },
     "metadata": {
      "needs_background": "light"
     },
     "output_type": "display_data"
    }
   ],
   "source": [
    "disease = \"death\"\n",
    "Disease=\"Death\"\n",
    "variable = \"age_at_death_f40007_0_0\"\n",
    "\n",
    "df[disease] = df[variable].notna()\n",
    "df[\"age_\"+disease] = 2021-df[\"year_of_birth_f34_0_0\"]\n",
    "df.loc[df[disease],\"age_\"+disease] = df.loc[df[disease].notna(),variable]\n",
    "\n",
    "fig,ax = plt.subplots()\n",
    "t=np.linspace(30,round(df[\"age_\"+disease].max()))\n",
    "\n",
    "kmf = KaplanMeierFitter()\n",
    "kmf.fit(df.loc[df[\"infertile\"],[\"age_\"+disease]], event_observed=df.loc[df[\"infertile\"],[disease]], timeline=t, label=\"Infertile\")\n",
    "ax = kmf.plot_survival_function()\n",
    "\n",
    "kmf.fit(df.loc[~df[\"infertile\"],[\"age_\"+disease]], event_observed=df.loc[~df[\"infertile\"],[disease]], timeline=t, label=\"Fertile\")\n",
    "ax = kmf.plot_survival_function()\n",
    "\n",
    "plt.title(\"Kaplan-Meier Survival Curves for \"+Disease)\n",
    "plt.xlabel(\"Age at \"+Disease+\" Diagnosis\")\n",
    "\n",
    "ax.yaxis.set_major_formatter(mtick.PercentFormatter(1,decimals=None))"
   ]
  },
  {
   "cell_type": "code",
   "execution_count": 152,
   "metadata": {
    "ExecuteTime": {
     "end_time": "2021-05-30T20:23:41.257859Z",
     "start_time": "2021-05-30T20:23:38.854761Z"
    }
   },
   "outputs": [
    {
     "data": {
      "image/png": "[encoded data removed]",
      "text/plain": [
       "<Figure size 432x288 with 1 Axes>"
      ]
     },
     "metadata": {
      "needs_background": "light"
     },
     "output_type": "display_data"
    }
   ],
   "source": [
    "disease = \"mi\"\n",
    "Disease=\"Heart Attack\"\n",
    "variable = \"date_of_myocardial_infarction_f42000_0_0\"\n",
    "\n",
    "df[disease] = df[variable].notna()\n",
    "df[\"age_\"+disease] = 2021-df[\"year_of_birth_f34_0_0\"]\n",
    "df.loc[df[disease],\"age_\"+disease] = [int(x.split('-')[0])-df.iloc[i][\"year_of_birth_f34_0_0\"] for i,x in enumerate(df.loc[df[disease],variable])]\n",
    "\n",
    "fig,ax = plt.subplots()\n",
    "t=np.linspace(30,round(df[\"age_\"+disease].max()))\n",
    "\n",
    "kmf = KaplanMeierFitter()\n",
    "kmf.fit(df.loc[df[\"infertile\"],[\"age_\"+disease]], event_observed=df.loc[df[\"infertile\"],[disease]], timeline=t, label=\"Infertile\")\n",
    "ax = kmf.plot_survival_function()\n",
    "\n",
    "kmf.fit(df.loc[~df[\"infertile\"],[\"age_\"+disease]], event_observed=df.loc[~df[\"infertile\"],[disease]], timeline=t, label=\"Fertile\")\n",
    "ax = kmf.plot_survival_function()\n",
    "\n",
    "plt.title(\"Kaplan-Meier Survival Curves for \"+Disease)\n",
    "plt.xlabel(\"Age at \"+Disease+\" Diagnosis\")\n",
    "\n",
    "ax.yaxis.set_major_formatter(mtick.PercentFormatter(1,decimals=None))\n",
    "# df[\"age_mi\"].hist()"
   ]
  },
  {
   "cell_type": "code",
   "execution_count": 156,
   "metadata": {
    "ExecuteTime": {
     "end_time": "2021-05-30T20:27:15.229307Z",
     "start_time": "2021-05-30T20:27:12.242435Z"
    }
   },
   "outputs": [
    {
     "data": {
      "image/png": "[encoded data removed]",
      "text/plain": [
       "<Figure size 432x288 with 1 Axes>"
      ]
     },
     "metadata": {
      "needs_background": "light"
     },
     "output_type": "display_data"
    }
   ],
   "source": [
    "disease = \"death\"\n",
    "Disease=\"Death\"\n",
    "variable = \"date_of_death_f40000_0_0\"\n",
    "\n",
    "df[disease] = df[variable].notna()\n",
    "df[\"age_\"+disease] = 2021-df[\"year_of_birth_f34_0_0\"]\n",
    "df.loc[df[disease],\"age_\"+disease] = [int(x.split('-')[0])-df.iloc[i][\"year_of_birth_f34_0_0\"] for i,x in enumerate(df.loc[df[disease],variable])]\n",
    "\n",
    "fig,ax = plt.subplots()\n",
    "t=np.linspace(30,round(df[\"age_\"+disease].max()))\n",
    "\n",
    "kmf = KaplanMeierFitter()\n",
    "kmf.fit(df.loc[df[\"infertile\"],[\"age_\"+disease]], event_observed=df.loc[df[\"infertile\"],[disease]], timeline=t, label=\"Infertile\")\n",
    "ax = kmf.plot_survival_function()\n",
    "\n",
    "kmf.fit(df.loc[~df[\"infertile\"],[\"age_\"+disease]], event_observed=df.loc[~df[\"infertile\"],[disease]], timeline=t, label=\"Fertile\")\n",
    "ax = kmf.plot_survival_function()\n",
    "\n",
    "plt.title(\"Kaplan-Meier Survival Curves for \"+Disease)\n",
    "plt.xlabel(\"Age at \"+Disease)\n",
    "\n",
    "ax.yaxis.set_major_formatter(mtick.PercentFormatter(1,decimals=None))\n",
    "# df[\"age_mi\"].hist()"
   ]
  },
  {
   "cell_type": "code",
   "execution_count": 154,
   "metadata": {
    "ExecuteTime": {
     "end_time": "2021-05-30T20:23:57.807318Z",
     "start_time": "2021-05-30T20:23:57.797941Z"
    }
   },
   "outputs": [],
   "source": [
    "# [int(x.split('-')[0]) for x in df.loc[df[\"date_of_myocardial_infarction_f42000_0_0\"].notna(),\"date_of_myocardial_infarction_f42000_0_0\"]]#.split(\"-\")#.sum()#,df[\"age_heart_attack_diagnosed_f3894_0_0\"].notna().sum()\n",
    "\n",
    "# # df.columns"
   ]
  },
  {
   "cell_type": "code",
   "execution_count": 76,
   "metadata": {
    "ExecuteTime": {
     "end_time": "2021-05-30T20:00:36.379920Z",
     "start_time": "2021-05-30T20:00:36.323614Z"
    }
   },
   "outputs": [
    {
     "data": {
      "text/html": [
       "<div>\n",
       "<style scoped>\n",
       "    .dataframe tbody tr th:only-of-type {\n",
       "        vertical-align: middle;\n",
       "    }\n",
       "\n",
       "    .dataframe tbody tr th {\n",
       "        vertical-align: top;\n",
       "    }\n",
       "\n",
       "    .dataframe thead th {\n",
       "        text-align: right;\n",
       "    }\n",
       "</style>\n",
       "<table border=\"1\" class=\"dataframe\">\n",
       "  <thead>\n",
       "    <tr style=\"text-align: right;\">\n",
       "      <th></th>\n",
       "      <th>cancer</th>\n",
       "      <th>htn</th>\n",
       "      <th>mi</th>\n",
       "      <th>dm</th>\n",
       "      <th>death</th>\n",
       "    </tr>\n",
       "    <tr>\n",
       "      <th>infertile</th>\n",
       "      <th></th>\n",
       "      <th></th>\n",
       "      <th></th>\n",
       "      <th></th>\n",
       "      <th></th>\n",
       "    </tr>\n",
       "  </thead>\n",
       "  <tbody>\n",
       "    <tr>\n",
       "      <th>False</th>\n",
       "      <td>0.175477</td>\n",
       "      <td>0.304222</td>\n",
       "      <td>0.041119</td>\n",
       "      <td>0.064775</td>\n",
       "      <td>0.088474</td>\n",
       "    </tr>\n",
       "    <tr>\n",
       "      <th>True</th>\n",
       "      <td>0.157895</td>\n",
       "      <td>0.234649</td>\n",
       "      <td>0.019737</td>\n",
       "      <td>0.037281</td>\n",
       "      <td>0.065789</td>\n",
       "    </tr>\n",
       "  </tbody>\n",
       "</table>\n",
       "</div>"
      ],
      "text/plain": [
       "             cancer       htn        mi        dm     death\n",
       "infertile                                                  \n",
       "False      0.175477  0.304222  0.041119  0.064775  0.088474\n",
       "True       0.157895  0.234649  0.019737  0.037281  0.065789"
      ]
     },
     "execution_count": 76,
     "metadata": {},
     "output_type": "execute_result"
    }
   ],
   "source": [
    "df.groupby(\"infertile\")[[\"cancer\",\"htn\",\"mi\",\"dm\",\"death\"]].mean()"
   ]
  },
  {
   "cell_type": "code",
   "execution_count": 171,
   "metadata": {
    "ExecuteTime": {
     "end_time": "2021-05-30T20:32:10.792204Z",
     "start_time": "2021-05-30T20:32:10.142355Z"
    }
   },
   "outputs": [
    {
     "data": {
      "image/png": "[encoded data removed]",
      "text/plain": [
       "<Figure size 432x288 with 1 Axes>"
      ]
     },
     "metadata": {
      "needs_background": "light"
     },
     "output_type": "display_data"
    }
   ],
   "source": [
    "# this is to plot the kde\n",
    "sns.kdeplot(df.loc[df[\"infertile\"],\"body_mass_index_bmi_f21001_0_0\"],label='Infertile');\n",
    "sns.kdeplot(df.loc[~df[\"infertile\"],\"body_mass_index_bmi_f21001_0_0\"],label='Fertile');\n",
    "\n",
    "# beautifying the labels\n",
    "plt.xlabel('BMI')\n",
    "plt.ylabel('Density')\n",
    "plt.title(\"Density Distribution of BMI\")\n",
    "plt.legend()\n",
    "plt.show()"
   ]
  },
  {
   "cell_type": "code",
   "execution_count": null,
   "metadata": {},
   "outputs": [],
   "source": []
  },
  {
   "cell_type": "code",
   "execution_count": null,
   "metadata": {},
   "outputs": [],
   "source": [
    "# diabetes_diagnosed_by_doctor_f2443_0_0\n",
    "# cancer_diagnosed_by_doctor_f2453_0_0\n",
    "\n",
    "# cancer_code_selfreported_f20001_0_0\n",
    "# smoking_status_f20116_0_0\n",
    "# body_mass_index_bmi_f21001_0_0\n",
    "# date_of_death_f40000_0_0\n",
    "# type_of_cancer_icd10_f40006_0_0\n",
    "# \n",
    "# description_of_cause_of_death_f40010_0_0\n",
    "# type_of_cancer_icd9_f40013_0_0\n",
    "# date_of_myocardial_infarction_f42000_0_0\n",
    "# date_of_stemi_f42002_0_0\n",
    "# date_of_nstemi_f42004_0_0\n",
    "# date_of_stroke_f42006_0_0\n",
    "# date_of_ischaemic_stroke_f42008_0_0\n",
    "# date_n46_first_reported_male_infertility_f132084_0_0\n",
    "# source_of_report_of_n46_male_infertility_f132085_0_0"
   ]
  },
  {
   "cell_type": "code",
   "execution_count": null,
   "metadata": {
    "collapsed": true
   },
   "outputs": [],
   "source": [
    "# number_of_children_fathered_f2405_0_0\n",
    "# diabetes_diagnosed_by_doctor_f2443_0_0\n",
    "# cancer_diagnosed_by_doctor_f2453_0_0\n",
    "# age_high_blood_pressure_diagnosed_f2966_0_0\n",
    "# cancer_yearage_first_occurred_f84_0_0\n",
    "# age_heart_attack_diagnosed_f3894_0_0\n",
    "# age_diabetes_diagnosed_f2976_0_0\n",
    "# cancer_code_selfreported_f20001_0_0\n",
    "# interpolated_age_of_participant_when_cancer_first_diagnosed_f20007_0_0\n",
    "# smoking_status_f20116_0_0\n",
    "# body_mass_index_bmi_f21001_0_0\n",
    "# date_of_death_f40000_0_0\n",
    "# type_of_cancer_icd10_f40006_0_0\n",
    "# age_at_death_f40007_0_0\n",
    "# age_at_death_f40007_1_0\n",
    "# age_at_cancer_diagnosis_f40008_0_0\n",
    "# description_of_cause_of_death_f40010_0_0\n",
    "# type_of_cancer_icd9_f40013_0_0\n",
    "# date_of_myocardial_infarction_f42000_0_0\n",
    "# date_of_stemi_f42002_0_0\n",
    "# date_of_nstemi_f42004_0_0\n",
    "# date_of_stroke_f42006_0_0\n",
    "# date_of_ischaemic_stroke_f42008_0_0\n",
    "# date_n46_first_reported_male_infertility_f132084_0_0\n",
    "# source_of_report_of_n46_male_infertility_f132085_0_0"
   ]
  }
 ],
 "metadata": {
  "hide_input": false,
  "kernelspec": {
   "display_name": "Python 3",
   "language": "python",
   "name": "python3"
  },
  "language_info": {
   "codemirror_mode": {
    "name": "ipython",
    "version": 3
   },
   "file_extension": ".py",
   "mimetype": "text/x-python",
   "name": "python",
   "nbconvert_exporter": "python",
   "pygments_lexer": "ipython3",
   "version": "3.7.10"
  },
  "toc": {
   "base_numbering": 1,
   "nav_menu": {},
   "number_sections": true,
   "sideBar": true,
   "skip_h1_title": false,
   "title_cell": "Table of Contents",
   "title_sidebar": "Contents",
   "toc_cell": false,
   "toc_position": {},
   "toc_section_display": true,
   "toc_window_display": false
  },
  "varInspector": {
   "cols": {
    "lenName": 16,
    "lenType": 16,
    "lenVar": 40
   },
   "kernels_config": {
    "python": {
     "delete_cmd_postfix": "",
     "delete_cmd_prefix": "del ",
     "library": "var_list.py",
     "varRefreshCmd": "print(var_dic_list())"
    },
    "r": {
     "delete_cmd_postfix": ") ",
     "delete_cmd_prefix": "rm(",
     "library": "var_list.r",
     "varRefreshCmd": "cat(var_dic_list()) "
    }
   },
   "types_to_exclude": [
    "module",
    "function",
    "builtin_function_or_method",
    "instance",
    "_Feature"
   ],
   "window_display": false
  }
 },
 "nbformat": 4,
 "nbformat_minor": 2
}
