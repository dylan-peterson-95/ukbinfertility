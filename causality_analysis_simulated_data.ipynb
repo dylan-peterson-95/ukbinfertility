{
 "cells": [
  {
   "cell_type": "code",
   "execution_count": 1,
   "metadata": {},
   "outputs": [],
   "source": [
    "import pandas as pd\n",
    "import numpy as np\n",
    "import scipy.stats as stats\n"
   ]
  },
  {
   "cell_type": "code",
   "execution_count": 2,
   "metadata": {},
   "outputs": [
    {
     "name": "stdout",
     "output_type": "stream",
     "text": [
      "44.475\n",
      "1819.78\n"
     ]
    }
   ],
   "source": [
    "# get sample sizes\n",
    "\n",
    "print(0.075*593)\n",
    "print(0.01*181978)\n",
    "\n",
    "num_inf = 45\n",
    "num_norm = 1820"
   ]
  },
  {
   "cell_type": "code",
   "execution_count": 3,
   "metadata": {},
   "outputs": [
    {
     "name": "stdout",
     "output_type": "stream",
     "text": [
      "[[ 0.00000000e+00 -9.64661983e-01  3.34839342e-01]\n",
      " [ 1.50000000e-01 -1.64437138e+00  1.00268228e-01]\n",
      " [ 3.00000000e-01  1.86678775e+00  6.20882069e-02]\n",
      " [ 4.50000000e-01  8.59443801e-01  3.90206286e-01]\n",
      " [ 6.00000000e-01  1.71004441e+00  8.74241679e-02]\n",
      " [ 7.50000000e-01 -1.02102293e+00  3.07376138e-01]\n",
      " [ 9.00000000e-01  2.75911894e+00  5.85243028e-03]\n",
      " [ 1.05000000e+00  1.78725326e+00  7.40590824e-02]\n",
      " [ 1.20000000e+00  2.75961558e+00  5.84357872e-03]\n",
      " [ 1.35000000e+00  3.95537756e+00  7.92748506e-05]\n",
      " [ 1.50000000e+00  2.07093512e+00  3.85022785e-02]\n",
      " [ 1.65000000e+00  3.07806334e+00  2.11387691e-03]\n",
      " [ 1.80000000e+00  4.70753162e+00  2.69237232e-06]\n",
      " [ 1.95000000e+00  4.40464224e+00  1.11977197e-05]\n",
      " [ 2.10000000e+00  4.03400716e+00  5.70480778e-05]\n",
      " [ 2.25000000e+00  5.75245754e+00  1.02590756e-08]\n",
      " [ 2.40000000e+00  5.23280746e+00  1.85778416e-07]\n",
      " [ 2.55000000e+00  6.59217463e+00  5.62670629e-11]\n",
      " [ 2.70000000e+00  6.39168471e+00  2.06802125e-10]\n",
      " [ 2.85000000e+00  6.94797901e+00  5.10354451e-12]\n",
      " [ 3.00000000e+00  5.90524847e+00  4.17506408e-09]\n",
      " [ 3.15000000e+00  5.67526373e+00  1.60257244e-08]\n",
      " [ 3.30000000e+00  6.93460151e+00  5.59714918e-12]\n",
      " [ 3.45000000e+00  8.66083936e+00  9.96343974e-18]\n",
      " [ 3.60000000e+00  9.95070080e+00  9.15711774e-23]\n",
      " [ 3.75000000e+00  8.65195809e+00  1.07380130e-17]\n",
      " [ 3.90000000e+00  8.98852549e+00  5.99601140e-19]\n",
      " [ 4.05000000e+00  9.65929245e+00  1.42483735e-21]\n",
      " [ 4.20000000e+00  7.63168471e+00  3.67483372e-14]\n",
      " [ 4.35000000e+00  8.65768805e+00  1.02317469e-17]\n",
      " [ 4.50000000e+00  8.61770100e+00  1.43238503e-17]\n",
      " [ 4.65000000e+00  9.20002173e+00  9.30270294e-20]\n",
      " [ 4.80000000e+00  1.18324380e+01  3.37004909e-31]\n",
      " [ 4.95000000e+00  1.08367217e+01  1.40447967e-26]\n",
      " [ 5.10000000e+00  1.20634237e+01  2.55091130e-32]\n",
      " [ 5.25000000e+00  1.05217553e+01  3.43464934e-25]\n",
      " [ 5.40000000e+00  1.18312117e+01  3.41616295e-31]\n",
      " [ 5.55000000e+00  1.10860890e+01  1.05490799e-27]\n",
      " [ 5.70000000e+00  1.21052200e+01  1.59189074e-32]\n",
      " [ 5.85000000e+00  1.36095179e+01  2.77000476e-40]\n",
      " [ 6.00000000e+00  1.43339692e+01  2.77714832e-44]]\n"
     ]
    }
   ],
   "source": [
    "np.random.seed(422)\n",
    "\n",
    "# define variables\n",
    "norm_mu = 30\n",
    "inf_mu = 30\n",
    "sigma = 3\n",
    "increment = norm_mu*.005\n",
    "iter = 40\n",
    "\n",
    "results = np.empty((iter + 1, 3))\n",
    "\n",
    "# simulate data and perform t-tests\n",
    "for i in range(iter + 1):\n",
    "    inf = np.random.normal(inf_mu, sigma, num_inf)\n",
    "    norm = np.random.normal(norm_mu, sigma, num_norm)\n",
    "    t = stats.ttest_ind(inf, norm)\n",
    "    results[i] = [inf_mu-norm_mu, t[0], t[1]]\n",
    "    inf_mu += increment\n",
    "                  \n",
    "print(results)\n",
    "    "
   ]
  },
  {
   "cell_type": "code",
   "execution_count": 4,
   "metadata": {},
   "outputs": [
    {
     "data": {
      "image/png": "[encoded data removed]",
      "text/plain": [
       "<Figure size 432x288 with 1 Axes>"
      ]
     },
     "metadata": {
      "needs_background": "light"
     },
     "output_type": "display_data"
    }
   ],
   "source": [
    "import matplotlib.pyplot as plt\n",
    "\n",
    "n = 300\n",
    "\n",
    "# plot results\n",
    "plt.scatter(results[:,0]/norm_mu, -np.log(results[:,2]))\n",
    "plt.xlabel(\"Percent BMI Difference\")\n",
    "plt.ylabel(\"-log(p-value)\")\n",
    "# p = 0.05\n",
    "plt.hlines(-np.log(0.05), xmin = 0, xmax = (inf_mu-norm_mu)/norm_mu)\n",
    "\n",
    "plt.show()\n"
   ]
  },
  {
   "cell_type": "code",
   "execution_count": 26,
   "metadata": {},
   "outputs": [
    {
     "name": "stdout",
     "output_type": "stream",
     "text": [
      "[[ 0.00000000e+00 -1.92691800e-03  4.94360596e-01]\n",
      " [ 1.50000000e-01  3.06568775e-01  4.79277280e-01]\n",
      " [ 3.00000000e-01  6.69151702e-01  4.46107110e-01]\n",
      " [ 4.50000000e-01  1.00923710e+00  3.67390470e-01]\n",
      " [ 6.00000000e-01  1.33780259e+00  2.85498171e-01]\n",
      " [ 7.50000000e-01  1.70127986e+00  2.08706225e-01]\n",
      " [ 9.00000000e-01  1.91871081e+00  1.61406419e-01]\n",
      " [ 1.05000000e+00  2.31361765e+00  9.13480027e-02]\n",
      " [ 1.20000000e+00  2.74886928e+00  4.94256071e-02]\n",
      " [ 1.35000000e+00  2.99553218e+00  3.54551568e-02]\n",
      " [ 1.50000000e+00  3.28122507e+00  2.14124108e-02]\n",
      " [ 1.65000000e+00  3.63876156e+00  9.98338466e-03]\n",
      " [ 1.80000000e+00  3.97871147e+00  4.61459640e-03]\n",
      " [ 1.95000000e+00  4.26783350e+00  3.20109774e-03]\n",
      " [ 2.10000000e+00  4.66322712e+00  8.37959366e-04]\n",
      " [ 2.25000000e+00  5.00983249e+00  3.39963924e-04]\n",
      " [ 2.40000000e+00  5.35533974e+00  2.04044001e-04]\n",
      " [ 2.55000000e+00  5.65662772e+00  6.00056885e-05]\n",
      " [ 2.70000000e+00  5.94932225e+00  2.43885792e-05]\n",
      " [ 2.85000000e+00  6.24602143e+00  6.35239771e-06]\n",
      " [ 3.00000000e+00  6.62673355e+00  1.13766503e-06]\n",
      " [ 3.15000000e+00  6.92611437e+00  7.91797624e-07]\n",
      " [ 3.30000000e+00  7.31040434e+00  9.18020257e-08]\n",
      " [ 3.45000000e+00  7.58369009e+00  6.80373174e-08]\n",
      " [ 3.60000000e+00  7.91089141e+00  6.83017915e-09]\n",
      " [ 3.75000000e+00  8.29235976e+00  3.79271472e-10]\n",
      " [ 3.90000000e+00  8.57201504e+00  8.58085472e-09]\n",
      " [ 4.05000000e+00  8.92291140e+00  2.75091496e-11]\n",
      " [ 4.20000000e+00  9.25074512e+00  3.91882252e-13]\n",
      " [ 4.35000000e+00  9.61532526e+00  3.36549180e-13]\n",
      " [ 4.50000000e+00  9.95838178e+00  1.10829165e-13]\n",
      " [ 4.65000000e+00  1.03080758e+01  4.07162329e-17]\n",
      " [ 4.80000000e+00  1.05761143e+01  8.62325333e-16]\n",
      " [ 4.95000000e+00  1.09526468e+01  4.70874796e-18]\n",
      " [ 5.10000000e+00  1.12975762e+01  2.71732484e-18]\n",
      " [ 5.25000000e+00  1.16025349e+01  1.45830804e-18]\n",
      " [ 5.40000000e+00  1.19466084e+01  1.56472573e-20]\n",
      " [ 5.55000000e+00  1.22494499e+01  2.48963747e-21]\n",
      " [ 5.70000000e+00  1.25685586e+01  1.60729433e-23]\n",
      " [ 5.85000000e+00  1.29429110e+01  2.91610500e-25]\n",
      " [ 6.00000000e+00  1.32761776e+01  5.33291453e-26]]\n"
     ]
    }
   ],
   "source": [
    "## AVERAGES ##\n",
    "\n",
    "np.random.seed(422)\n",
    "\n",
    "# define variables\n",
    "norm_mu = 30\n",
    "inf_mu = 30\n",
    "sigma = 3\n",
    "increment = norm_mu*.005\n",
    "iter = 40\n",
    "\n",
    "results_avg = np.empty((iter + 1, 3))\n",
    "\n",
    "# simulate data and perform t-tests\n",
    "for i in range(iter + 1):\n",
    "    t = np.empty((1000, 2))\n",
    "    # average for each new value of inf_mu\n",
    "    for j in range(1000):\n",
    "        inf = np.random.normal(inf_mu, sigma, num_inf)\n",
    "        norm = np.random.normal(norm_mu, sigma, num_norm)\n",
    "        t[j] = stats.ttest_ind(inf, norm)\n",
    "    t_0 = np.average(t[:,0])\n",
    "    t_1 = np.average(t[:,1])\n",
    "    results_avg[i] = [inf_mu-norm_mu, t_0, t_1]\n",
    "    inf_mu += increment\n",
    "                  \n",
    "print(results_avg)\n",
    "    "
   ]
  },
  {
   "cell_type": "code",
   "execution_count": 34,
   "metadata": {},
   "outputs": [
    {
     "data": {
      "image/png": "[encoded data removed]",
      "text/plain": [
       "<Figure size 432x288 with 1 Axes>"
      ]
     },
     "metadata": {
      "needs_background": "light"
     },
     "output_type": "display_data"
    }
   ],
   "source": [
    "## AVERAGES ##\n",
    "\n",
    "# plot results\n",
    "plt.scatter(results_avg[:,0]/norm_mu, -np.log(results_avg[:,2]))\n",
    "plt.xlabel(\"Percent BMI Increase\")\n",
    "plt.ylabel(\"-log(p-value)\")\n",
    "# p = 0.05\n",
    "plt.hlines(-np.log(0.05), xmin = 0, xmax = (inf_mu-norm_mu)/norm_mu, label='p<0.05')\n",
    "# p = 0.05 / 300 (Bonferroni - subset)\n",
    "plt.hlines(-np.log(0.05/300), xmin = 0, xmax = (inf_mu-norm_mu)/norm_mu, color = \"RED\", label = \"Bonferroni (subset of phenotypes)\")\n",
    "# p = 0.05 / 17,000 (Bonferroni - all)\n",
    "plt.hlines(-np.log(0.05/17000), xmin = 0, xmax = (inf_mu-norm_mu)/norm_mu, color = \"ORANGE\", label = \"Bonferroni (all UKBB phenotypes)\")\n",
    "\n",
    "plt.legend()\n",
    "plt.savefig(\"Scatterplot1.png\")\n",
    "plt.show()\n"
   ]
  },
  {
   "cell_type": "code",
   "execution_count": 37,
   "metadata": {},
   "outputs": [
    {
     "name": "stdout",
     "output_type": "stream",
     "text": [
      "[0.04  0.045 0.05  0.055 0.06  0.065 0.07  0.075 0.08  0.085 0.09  0.095\n",
      " 0.1   0.105 0.11  0.115 0.12  0.125 0.13  0.135 0.14  0.145 0.15  0.155\n",
      " 0.16  0.165 0.17  0.175 0.18  0.185 0.19  0.195 0.2  ]\n",
      "[0.085 0.09  0.095 0.1   0.105 0.11  0.115 0.12  0.125 0.13  0.135 0.14\n",
      " 0.145 0.15  0.155 0.16  0.165 0.17  0.175 0.18  0.185 0.19  0.195 0.2  ]\n",
      "[0.1   0.105 0.11  0.115 0.12  0.125 0.13  0.135 0.14  0.145 0.15  0.155\n",
      " 0.16  0.165 0.17  0.175 0.18  0.185 0.19  0.195 0.2  ]\n"
     ]
    }
   ],
   "source": [
    "# find passing mean difference vals\n",
    "\n",
    "pass_vec = []\n",
    "for i in range(iter + 1): \n",
    "    if results_avg[i,2] <= 0.05:\n",
    "        pass_vec.append([results_avg[i,0]/norm_mu,results_avg[i,2]])\n",
    "\n",
    "b_pass_vec = []\n",
    "for i in range(iter + 1): \n",
    "    if results_avg[i,2] <= (0.05/300):\n",
    "        b_pass_vec.append([results_avg[i,0]/norm_mu,results_avg[i,2]])\n",
    "        \n",
    "b_pass_vec_2 = []\n",
    "for i in range(iter + 1): \n",
    "    if results_avg[i,2] <= (0.05/17000):\n",
    "        b_pass_vec_2.append([results_avg[i,0]/norm_mu,results_avg[i,2]])\n",
    "      \n",
    "pass_vec = np.array(pass_vec)\n",
    "b_pass_vec = np.array(b_pass_vec)\n",
    "b_pass_vec_2 = np.array(b_pass_vec_2)\n",
    "\n",
    "print(pass_vec[:,0])\n",
    "print(b_pass_vec[:,0])\n",
    "print(b_pass_vec_2[:,0])"
   ]
  },
  {
   "cell_type": "code",
   "execution_count": 15,
   "metadata": {},
   "outputs": [
    {
     "data": {
      "image/png": "[encoded data removed]",
      "text/plain": [
       "<Figure size 432x288 with 1 Axes>"
      ]
     },
     "metadata": {
      "needs_background": "light"
     },
     "output_type": "display_data"
    }
   ],
   "source": [
    "# plot null hypothesis box plots (no diff from normal pop)\n",
    "\n",
    "norm_mu = 30\n",
    "inf_mu = 30\n",
    "sigma = 3\n",
    "inf_null = np.random.normal(inf_mu, sigma, num_inf)\n",
    "norm_null = np.random.normal(norm_mu, sigma, num_norm)\n",
    "t_null = stats.ttest_ind(inf, norm)\n",
    "\n",
    "data = [norm_null, inf_null]\n",
    "\n",
    "plt.boxplot(data)\n",
    "plt.hlines(30, xmin = 0.5, xmax = 2.5)\n",
    "plt.xticks([1, 2], ['Fertile', 'Infertile'])\n",
    "plt.ylabel(\"BMI\")\n",
    "plt.savefig(\"Boxplot1.png\")\n",
    "plt.show()\n",
    "\n"
   ]
  },
  {
   "cell_type": "code",
   "execution_count": 16,
   "metadata": {},
   "outputs": [
    {
     "data": {
      "image/png": "[encoded data removed]",
      "text/plain": [
       "<Figure size 432x288 with 1 Axes>"
      ]
     },
     "metadata": {
      "needs_background": "light"
     },
     "output_type": "display_data"
    }
   ],
   "source": [
    "# plot null hypothesis box plots (both diff from normal pop)\n",
    "\n",
    "norm_mu = 30\n",
    "inf_mu = 30\n",
    "sigma = 3\n",
    "inf_null = np.random.normal(inf_mu, sigma, num_inf)\n",
    "norm_null = np.random.normal(norm_mu, sigma, num_norm)\n",
    "t_null = stats.ttest_ind(inf, norm)\n",
    "\n",
    "data = [norm_null, inf_null]\n",
    "data = np.array(data)+5\n",
    "\n",
    "plt.boxplot(data)\n",
    "plt.hlines(30, xmin = 0.5, xmax = 2.5)\n",
    "plt.xticks([1, 2], ['Fertile', 'Infertile'])\n",
    "plt.ylabel(\"BMI\")\n",
    "plt.savefig(\"Boxplot2.png\")\n",
    "plt.show()\n"
   ]
  },
  {
   "cell_type": "code",
   "execution_count": 17,
   "metadata": {},
   "outputs": [
    {
     "data": {
      "image/png": "[encoded data removed]",
      "text/plain": [
       "<Figure size 432x288 with 1 Axes>"
      ]
     },
     "metadata": {
      "needs_background": "light"
     },
     "output_type": "display_data"
    }
   ],
   "source": [
    "# plot 20% increase box plots (one diff from normal)\n",
    "\n",
    "data = [norm, inf]\n",
    "plt.boxplot(data)\n",
    "plt.hlines(30, xmin = 0.5, xmax = 2.5)\n",
    "plt.xticks([1, 2], ['Fertile', 'Infertile'])\n",
    "plt.ylabel(\"BMI\")\n",
    "plt.savefig(\"Boxplot3.png\")\n",
    "plt.show()"
   ]
  },
  {
   "cell_type": "code",
   "execution_count": 18,
   "metadata": {},
   "outputs": [
    {
     "data": {
      "image/png": "[encoded data removed]",
      "text/plain": [
       "<Figure size 432x288 with 1 Axes>"
      ]
     },
     "metadata": {
      "needs_background": "light"
     },
     "output_type": "display_data"
    }
   ],
   "source": [
    "# plot 20% increase box plots (one diff from normal)\n",
    "\n",
    "data = [norm, inf]\n",
    "data = np.array(data)+5\n",
    "plt.boxplot(data)\n",
    "plt.hlines(30, xmin = 0.5, xmax = 2.5)\n",
    "plt.xticks([1, 2], ['Fertile', 'Infertile'])\n",
    "plt.ylabel(\"BMI\")\n",
    "plt.savefig(\"Boxplot4.png\")\n",
    "plt.show()"
   ]
  },
  {
   "cell_type": "code",
   "execution_count": 12,
   "metadata": {},
   "outputs": [
    {
     "data": {
      "image/png": "[encoded data removed]",
      "text/plain": [
       "<Figure size 432x288 with 1 Axes>"
      ]
     },
     "metadata": {
      "needs_background": "light"
     },
     "output_type": "display_data"
    }
   ],
   "source": [
    "# plot 4% increase box plots (more borderline)\n",
    "\n",
    "norm_mu = 30\n",
    "inf_mu = 30 + 8*(norm_mu*.005)\n",
    "sigma = 3\n",
    "inf_null = np.random.normal(inf_mu, sigma, num_inf)\n",
    "norm_null = np.random.normal(norm_mu, sigma, num_norm)\n",
    "t_null = stats.ttest_ind(inf_null, norm_null)\n",
    "\n",
    "data = [norm_null, inf_null]\n",
    "\n",
    "plt.boxplot(data)\n",
    "plt.hlines(30, xmin = 0.5, xmax = 2.5)\n",
    "plt.xticks([1, 2], ['Fertile', 'Infertile'])\n",
    "plt.show()\n"
   ]
  },
  {
   "cell_type": "code",
   "execution_count": 38,
   "metadata": {},
   "outputs": [
    {
     "name": "stdout",
     "output_type": "stream",
     "text": [
      "1\n",
      "1.25\n",
      "1.5\n",
      "1.75\n",
      "2.0\n",
      "2.25\n",
      "2.5\n",
      "2.75\n",
      "3.0\n",
      "3.25\n",
      "3.5\n",
      "3.75\n",
      "4.0\n",
      "4.25\n",
      "4.5\n",
      "4.75\n",
      "5.0\n",
      "[[1.    0.015 0.03  0.03 ]\n",
      " [1.25  0.02  0.035 0.035]\n",
      " [1.5   0.025 0.04  0.04 ]\n",
      " [1.75  0.03  0.05  0.05 ]\n",
      " [2.    0.03  0.055 0.055]\n",
      " [2.25  0.03  0.06  0.06 ]\n",
      " [2.5   0.035 0.065 0.065]\n",
      " [2.75  0.04  0.07  0.07 ]\n",
      " [3.    0.045 0.08  0.08 ]\n",
      " [3.25  0.045 0.095 0.095]\n",
      " [3.5   0.05  0.1   0.1  ]\n",
      " [3.75  0.055 0.105 0.105]\n",
      " [4.    0.055 0.105 0.105]\n",
      " [4.25  0.06  0.105 0.105]\n",
      " [4.5   0.065 0.115 0.115]\n",
      " [4.75  0.07  0.125 0.125]\n",
      " [5.    0.07  0.13  0.13 ]]\n"
     ]
    }
   ],
   "source": [
    "## STANDARD DEVIATION vs. LOWEST EXPECTED REJECTED PERCENT INCREASE ##\n",
    "\n",
    "# define variables\n",
    "norm_mu = 30\n",
    "inf_mu = 30\n",
    "sigma = 1\n",
    "increment = .25\n",
    "increment2 = norm_mu*.005\n",
    "iter = 16\n",
    "iter2 = 160\n",
    "\n",
    "results_sd = np.empty((iter + 1, 4))\n",
    "\n",
    "# simulate data and perform t-tests\n",
    "\n",
    "for s in range(iter + 1):\n",
    "    results_temp = np.empty((iter2 + 1, 3))\n",
    "    norm_mu = 30\n",
    "    inf_mu = 30\n",
    "    # repeat previous process for each value of sigma\n",
    "    for i in range(iter2 + 1):\n",
    "        t = np.empty((100, 2))\n",
    "        # average for each new value of inf_mu\n",
    "        for j in range(100):\n",
    "            inf = np.random.normal(inf_mu, sigma, num_inf)\n",
    "            norm = np.random.normal(norm_mu, sigma, num_norm)\n",
    "            t[j] = stats.ttest_ind(inf, norm)\n",
    "        t_0 = np.average(t[:,0])\n",
    "        t_1 = np.average(t[:,1])\n",
    "        results_temp[i] = [inf_mu-norm_mu, t_0, t_1]\n",
    "        inf_mu += increment2\n",
    "    # find smallest significant value (normal)\n",
    "    v = []\n",
    "    for i in range(iter2 + 1): \n",
    "        if results_temp[i,2] <= 0.05:\n",
    "            v.append([results_temp[i,0]/norm_mu,results_temp[i,2]])\n",
    "    v = np.array(v)\n",
    "    # find smallest significant value (Bonferroni)\n",
    "    b = []\n",
    "    for i in range(iter2 + 1): \n",
    "        if results_temp[i,2] <= (0.05/300):\n",
    "            b.append([results_temp[i,0]/norm_mu,results_temp[i,2]])\n",
    "    b = np.array(b)\n",
    "    b2 = []\n",
    "    for i in range(iter2 + 1): \n",
    "        if results_temp[i,2] <= (0.05/300):\n",
    "            b2.append([results_temp[i,0]/norm_mu,results_temp[i,2]])\n",
    "    b2 = np.array(b2)\n",
    "    print(sigma)\n",
    "    results_sd[s] = [sigma, v[0,0], b[0,0], b2[0,0]]\n",
    "    sigma += increment\n",
    "    \n",
    "print(results_sd)\n"
   ]
  },
  {
   "cell_type": "code",
   "execution_count": 42,
   "metadata": {},
   "outputs": [
    {
     "data": {
      "image/png": "[encoded data removed]",
      "text/plain": [
       "<Figure size 432x288 with 1 Axes>"
      ]
     },
     "metadata": {
      "needs_background": "light"
     },
     "output_type": "display_data"
    },
    {
     "data": {
      "image/png": "[encoded data removed]",
      "text/plain": [
       "<Figure size 432x288 with 1 Axes>"
      ]
     },
     "metadata": {
      "needs_background": "light"
     },
     "output_type": "display_data"
    },
    {
     "data": {
      "image/png": "[encoded data removed]",
      "text/plain": [
       "<Figure size 432x288 with 1 Axes>"
      ]
     },
     "metadata": {
      "needs_background": "light"
     },
     "output_type": "display_data"
    }
   ],
   "source": [
    "# plot sd vs. smallest rejected p-value\n",
    "\n",
    "# plot results (normal)\n",
    "plt.scatter(results_sd[:,0], results_sd[:,1])\n",
    "plt.xlabel(\"BMI Standard Deviation\")\n",
    "plt.ylabel(\"Smallest Percent Increase with Rejected P-Value (Normal)\")\n",
    "plt.ylim([0, 0.15])\n",
    "plt.savefig(\"Scatterplot2.png\")\n",
    "plt.show()\n",
    "\n",
    "# plot results (Bonferroni - subset)\n",
    "plt.scatter(results_sd[:,0], results_sd[:,2], color = \"RED\")\n",
    "plt.xlabel(\"BMI Standard Deviation\")\n",
    "plt.ylabel(\"Smallest Percent Increase with Rejected P-Value (Bonf. subset)\")\n",
    "plt.ylim([0, 0.15])\n",
    "plt.savefig(\"Scatterplot3.png\")\n",
    "plt.show()\n",
    "\n",
    "# plot results (Bonferroni - all)\n",
    "plt.scatter(results_sd[:,0], results_sd[:,3], color = \"ORANGE\")\n",
    "plt.xlabel(\"BMI Standard Deviation\")\n",
    "plt.ylabel(\"Smallest Percent Increase with Rejected P-Value (Bonf. all)\")\n",
    "plt.ylim([0, 0.15])\n",
    "plt.savefig(\"Scatterplot4.png\")\n",
    "plt.show()\n",
    "\n",
    "\n"
   ]
  },
  {
   "cell_type": "code",
   "execution_count": null,
   "metadata": {},
   "outputs": [],
   "source": []
  }
 ],
 "metadata": {
  "kernelspec": {
   "display_name": "Python 3",
   "language": "python",
   "name": "python3"
  },
  "language_info": {
   "codemirror_mode": {
    "name": "ipython",
    "version": 3
   },
   "file_extension": ".py",
   "mimetype": "text/x-python",
   "name": "python",
   "nbconvert_exporter": "python",
   "pygments_lexer": "ipython3",
   "version": "3.7.6"
  }
 },
 "nbformat": 4,
 "nbformat_minor": 4
}
